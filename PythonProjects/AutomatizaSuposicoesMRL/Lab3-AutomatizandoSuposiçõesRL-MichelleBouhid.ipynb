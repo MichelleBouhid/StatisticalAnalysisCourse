{
 "cells": [
  {
   "cell_type": "markdown",
   "id": "4239b8be",
   "metadata": {},
   "source": [
    "### <font color ='darkred'>Análise Estatística Para Data Science com Linguagem Python - Michelle Bouhid </font>\n",
    "\n",
    "#### <font color ='darkblue'>Automatizando a Validação das Suposições da Regressão Linear</font>\n",
    "\n",
    "#### <font color ='darkgreen'>Mini-Projeto - Quais fatores mais influenciam na taxa de ocupação de residências?</font>"
   ]
  },
  {
   "cell_type": "markdown",
   "id": "a5db5891",
   "metadata": {},
   "source": [
    "<font color= darkred > <b> Instalando e carregando os pacotes </b> </font>"
   ]
  },
  {
   "cell_type": "code",
   "execution_count": 1,
   "id": "58140780",
   "metadata": {},
   "outputs": [
    {
     "name": "stdout",
     "output_type": "stream",
     "text": [
      "Versão Python: 3.9.13\n"
     ]
    }
   ],
   "source": [
    "# Versão Python\n",
    "from platform import python_version\n",
    "print( 'Versão Python:', python_version())"
   ]
  },
  {
   "cell_type": "code",
   "execution_count": 2,
   "id": "77b68ab4",
   "metadata": {},
   "outputs": [],
   "source": [
    "# Para atualizar um pacote, execute o comando abaixo no terminal ou prompt de comando:\n",
    "# pip install -U nome_pacote\n",
    "\n",
    "# Para instalar a versão exata de um pacote, execute o comando abaixo no terminal ou prompt de comando:\n",
    "# !pip install nome_pacote==versão_desejada\n",
    "\n",
    "# Depois de instalar ou atualizar o pacote, reinicie o jupyter notebook.\n",
    "\n",
    "# Instala o pacote watermark. \n",
    "# Esse pacote é usado para gravar as versões de outros pacotes usados neste jupyter notebook.\n",
    "!pip install -q -U watermark"
   ]
  },
  {
   "cell_type": "code",
   "execution_count": 3,
   "id": "c0a37fa8",
   "metadata": {},
   "outputs": [],
   "source": [
    "# Imports para manipulação de dados\n",
    "import numpy as np\n",
    "import pandas as pd\n",
    "\n",
    "# Imports para visualização de dados\n",
    "import matplotlib.pyplot as plt\n",
    "import seaborn as sns\n",
    "\n",
    "# Imports para modelagem estatística\n",
    "import pylab\n",
    "import scipy #Pacote pra matematica\n",
    "import scipy.stats as stats\n",
    "import statsmodels.api as sm\n",
    "import statsmodels.regression.linear_model as smf\n",
    "import statsmodels.stats.api as sms\n",
    "from scipy.stats import pearsonr\n",
    "from statsmodels.stats.outliers_influence import variance_inflation_factor\n",
    "from statsmodels.compat import lzip\n",
    "\n",
    "# Import para divisão dos dados\n",
    "import sklearn\n",
    "from sklearn.model_selection import train_test_split\n",
    "\n",
    "# Import para padronização dos dados\n",
    "from sklearn.preprocessing import StandardScaler"
   ]
  },
  {
   "cell_type": "code",
   "execution_count": 4,
   "id": "ec2ede15",
   "metadata": {},
   "outputs": [
    {
     "name": "stdout",
     "output_type": "stream",
     "text": [
      "Author: Michelle Bouhid\n",
      "\n",
      "matplotlib : 3.5.2\n",
      "seaborn    : 0.11.2\n",
      "scipy      : 1.7.3\n",
      "pandas     : 2.0.3\n",
      "numpy      : 1.22.1\n",
      "sklearn    : 1.0.2\n",
      "statsmodels: 0.13.2\n",
      "\n"
     ]
    }
   ],
   "source": [
    "# Versões dos pacotes usados neste jupyter notebook\n",
    "%reload_ext watermark\n",
    "%watermark -a \"Michelle Bouhid\" --iversions"
   ]
  },
  {
   "cell_type": "markdown",
   "id": "ebbe54ed",
   "metadata": {},
   "source": [
    "<font color= darkred > <b> Carregando os Dados e definindo a Variavel Alvo </b> </font>"
   ]
  },
  {
   "cell_type": "code",
   "execution_count": 5,
   "id": "5142273e",
   "metadata": {},
   "outputs": [],
   "source": [
    "# Carregando os dados\n",
    "dados = pd.read_csv('dados/dataset.csv')"
   ]
  },
  {
   "cell_type": "code",
   "execution_count": 6,
   "id": "506db71d",
   "metadata": {},
   "outputs": [
    {
     "data": {
      "text/html": [
       "<div>\n",
       "<style scoped>\n",
       "    .dataframe tbody tr th:only-of-type {\n",
       "        vertical-align: middle;\n",
       "    }\n",
       "\n",
       "    .dataframe tbody tr th {\n",
       "        vertical-align: top;\n",
       "    }\n",
       "\n",
       "    .dataframe thead th {\n",
       "        text-align: right;\n",
       "    }\n",
       "</style>\n",
       "<table border=\"1\" class=\"dataframe\">\n",
       "  <thead>\n",
       "    <tr style=\"text-align: right;\">\n",
       "      <th></th>\n",
       "      <th>numero_medio_quartos_por_residencia</th>\n",
       "      <th>idade_media_residencias</th>\n",
       "      <th>taxa_criminalidade</th>\n",
       "      <th>proporcao_lotes</th>\n",
       "      <th>proporcao_empresas</th>\n",
       "      <th>rio_no_bairro</th>\n",
       "      <th>taxa_poluicao</th>\n",
       "      <th>distancia_centro</th>\n",
       "      <th>index_acessibilidade</th>\n",
       "      <th>imposto_residencial</th>\n",
       "      <th>taxa_professores</th>\n",
       "      <th>consumo_medio_energia</th>\n",
       "      <th>taxa_desabrigados</th>\n",
       "      <th>taxa_ocupacao</th>\n",
       "    </tr>\n",
       "  </thead>\n",
       "  <tbody>\n",
       "    <tr>\n",
       "      <th>0</th>\n",
       "      <td>6.575</td>\n",
       "      <td>65.2</td>\n",
       "      <td>0.00632</td>\n",
       "      <td>18.0</td>\n",
       "      <td>2.31</td>\n",
       "      <td>0</td>\n",
       "      <td>0.538</td>\n",
       "      <td>4.0900</td>\n",
       "      <td>1</td>\n",
       "      <td>296</td>\n",
       "      <td>15.3</td>\n",
       "      <td>396.90</td>\n",
       "      <td>4.98</td>\n",
       "      <td>24.0</td>\n",
       "    </tr>\n",
       "    <tr>\n",
       "      <th>1</th>\n",
       "      <td>6.421</td>\n",
       "      <td>78.9</td>\n",
       "      <td>0.02731</td>\n",
       "      <td>0.0</td>\n",
       "      <td>7.07</td>\n",
       "      <td>0</td>\n",
       "      <td>0.469</td>\n",
       "      <td>4.9671</td>\n",
       "      <td>2</td>\n",
       "      <td>242</td>\n",
       "      <td>17.8</td>\n",
       "      <td>396.90</td>\n",
       "      <td>9.14</td>\n",
       "      <td>21.6</td>\n",
       "    </tr>\n",
       "    <tr>\n",
       "      <th>2</th>\n",
       "      <td>7.185</td>\n",
       "      <td>61.1</td>\n",
       "      <td>0.02729</td>\n",
       "      <td>0.0</td>\n",
       "      <td>7.07</td>\n",
       "      <td>0</td>\n",
       "      <td>0.469</td>\n",
       "      <td>4.9671</td>\n",
       "      <td>2</td>\n",
       "      <td>242</td>\n",
       "      <td>17.8</td>\n",
       "      <td>392.83</td>\n",
       "      <td>4.03</td>\n",
       "      <td>34.7</td>\n",
       "    </tr>\n",
       "    <tr>\n",
       "      <th>3</th>\n",
       "      <td>6.998</td>\n",
       "      <td>45.8</td>\n",
       "      <td>0.03237</td>\n",
       "      <td>0.0</td>\n",
       "      <td>2.18</td>\n",
       "      <td>0</td>\n",
       "      <td>0.458</td>\n",
       "      <td>6.0622</td>\n",
       "      <td>3</td>\n",
       "      <td>222</td>\n",
       "      <td>18.7</td>\n",
       "      <td>394.63</td>\n",
       "      <td>2.94</td>\n",
       "      <td>33.4</td>\n",
       "    </tr>\n",
       "    <tr>\n",
       "      <th>4</th>\n",
       "      <td>7.147</td>\n",
       "      <td>54.2</td>\n",
       "      <td>0.06905</td>\n",
       "      <td>0.0</td>\n",
       "      <td>2.18</td>\n",
       "      <td>0</td>\n",
       "      <td>0.458</td>\n",
       "      <td>6.0622</td>\n",
       "      <td>3</td>\n",
       "      <td>222</td>\n",
       "      <td>18.7</td>\n",
       "      <td>396.90</td>\n",
       "      <td>5.33</td>\n",
       "      <td>36.2</td>\n",
       "    </tr>\n",
       "  </tbody>\n",
       "</table>\n",
       "</div>"
      ],
      "text/plain": [
       "   numero_medio_quartos_por_residencia  idade_media_residencias  \\\n",
       "0                                6.575                     65.2   \n",
       "1                                6.421                     78.9   \n",
       "2                                7.185                     61.1   \n",
       "3                                6.998                     45.8   \n",
       "4                                7.147                     54.2   \n",
       "\n",
       "   taxa_criminalidade  proporcao_lotes  proporcao_empresas  rio_no_bairro  \\\n",
       "0             0.00632             18.0                2.31              0   \n",
       "1             0.02731              0.0                7.07              0   \n",
       "2             0.02729              0.0                7.07              0   \n",
       "3             0.03237              0.0                2.18              0   \n",
       "4             0.06905              0.0                2.18              0   \n",
       "\n",
       "   taxa_poluicao  distancia_centro  index_acessibilidade  imposto_residencial  \\\n",
       "0          0.538            4.0900                     1                  296   \n",
       "1          0.469            4.9671                     2                  242   \n",
       "2          0.469            4.9671                     2                  242   \n",
       "3          0.458            6.0622                     3                  222   \n",
       "4          0.458            6.0622                     3                  222   \n",
       "\n",
       "   taxa_professores  consumo_medio_energia  taxa_desabrigados  taxa_ocupacao  \n",
       "0              15.3                 396.90               4.98           24.0  \n",
       "1              17.8                 396.90               9.14           21.6  \n",
       "2              17.8                 392.83               4.03           34.7  \n",
       "3              18.7                 394.63               2.94           33.4  \n",
       "4              18.7                 396.90               5.33           36.2  "
      ]
     },
     "execution_count": 6,
     "metadata": {},
     "output_type": "execute_result"
    }
   ],
   "source": [
    "dados.head()"
   ]
  },
  {
   "cell_type": "markdown",
   "id": "83b11888",
   "metadata": {},
   "source": [
    "A taxa de ocupação das residências (variável **taxa_ocupacao**) é a variável alvo e o restante são as variáveis independentes com base nas quais vamos prever a taxa de ocupação das casas dos bairros de uma determinada cidade.\n",
    "\n",
    "Antes, precisamos fazer um extenso trabalho a fim de verificar quais variáveis preditoras devem ser usadas."
   ]
  },
  {
   "cell_type": "code",
   "execution_count": 7,
   "id": "193c3b00",
   "metadata": {},
   "outputs": [],
   "source": [
    "# Vamos criar uma cópia dos dados (precisaremos dessa cópia mais tarde)\n",
    "dados2 = dados.copy()"
   ]
  },
  {
   "cell_type": "markdown",
   "id": "18da0dcb",
   "metadata": {},
   "source": [
    "<font color= darkred > <b> Analise Exploratória </b> </font>"
   ]
  },
  {
   "cell_type": "code",
   "execution_count": 8,
   "id": "bae6832f",
   "metadata": {},
   "outputs": [
    {
     "data": {
      "text/plain": [
       "(500, 14)"
      ]
     },
     "execution_count": 8,
     "metadata": {},
     "output_type": "execute_result"
    }
   ],
   "source": [
    "dados.shape"
   ]
  },
  {
   "cell_type": "code",
   "execution_count": 9,
   "id": "b8c05f12",
   "metadata": {},
   "outputs": [
    {
     "data": {
      "text/plain": [
       "numero_medio_quartos_por_residencia    float64\n",
       "idade_media_residencias                float64\n",
       "taxa_criminalidade                     float64\n",
       "proporcao_lotes                        float64\n",
       "proporcao_empresas                     float64\n",
       "rio_no_bairro                            int64\n",
       "taxa_poluicao                          float64\n",
       "distancia_centro                       float64\n",
       "index_acessibilidade                     int64\n",
       "imposto_residencial                      int64\n",
       "taxa_professores                       float64\n",
       "consumo_medio_energia                  float64\n",
       "taxa_desabrigados                      float64\n",
       "taxa_ocupacao                          float64\n",
       "dtype: object"
      ]
     },
     "execution_count": 9,
     "metadata": {},
     "output_type": "execute_result"
    }
   ],
   "source": [
    "# Cuidado, mesmo sendo todas categorizadas como numericas, isso não significa que são quantitativas\n",
    "# Algumas podem estar categorizadas erradas pelo interpretador da linguagem Py como rio no bairro é categórica\n",
    "dados.dtypes"
   ]
  },
  {
   "cell_type": "code",
   "execution_count": 10,
   "id": "fd355ff8",
   "metadata": {},
   "outputs": [
    {
     "name": "stdout",
     "output_type": "stream",
     "text": [
      "<class 'pandas.core.frame.DataFrame'>\n",
      "RangeIndex: 500 entries, 0 to 499\n",
      "Data columns (total 14 columns):\n",
      " #   Column                               Non-Null Count  Dtype  \n",
      "---  ------                               --------------  -----  \n",
      " 0   numero_medio_quartos_por_residencia  500 non-null    float64\n",
      " 1   idade_media_residencias              500 non-null    float64\n",
      " 2   taxa_criminalidade                   500 non-null    float64\n",
      " 3   proporcao_lotes                      500 non-null    float64\n",
      " 4   proporcao_empresas                   500 non-null    float64\n",
      " 5   rio_no_bairro                        500 non-null    int64  \n",
      " 6   taxa_poluicao                        500 non-null    float64\n",
      " 7   distancia_centro                     500 non-null    float64\n",
      " 8   index_acessibilidade                 500 non-null    int64  \n",
      " 9   imposto_residencial                  500 non-null    int64  \n",
      " 10  taxa_professores                     500 non-null    float64\n",
      " 11  consumo_medio_energia                500 non-null    float64\n",
      " 12  taxa_desabrigados                    500 non-null    float64\n",
      " 13  taxa_ocupacao                        500 non-null    float64\n",
      "dtypes: float64(11), int64(3)\n",
      "memory usage: 54.8 KB\n"
     ]
    }
   ],
   "source": [
    "dados.info()"
   ]
  },
  {
   "cell_type": "markdown",
   "id": "c1c7e472",
   "metadata": {},
   "source": [
    "Análise:\n",
    "\n",
    "- Há um total de 500 observações não nulas em cada uma das colunas. Isso indica que não há valores ausentes nos dados. \n",
    "\n",
    "\n",
    "- Cada coluna neste conjunto de dados é de natureza numérica."
   ]
  },
  {
   "cell_type": "code",
   "execution_count": 11,
   "id": "0207f9bb",
   "metadata": {},
   "outputs": [
    {
     "data": {
      "text/html": [
       "<div>\n",
       "<style scoped>\n",
       "    .dataframe tbody tr th:only-of-type {\n",
       "        vertical-align: middle;\n",
       "    }\n",
       "\n",
       "    .dataframe tbody tr th {\n",
       "        vertical-align: top;\n",
       "    }\n",
       "\n",
       "    .dataframe thead th {\n",
       "        text-align: right;\n",
       "    }\n",
       "</style>\n",
       "<table border=\"1\" class=\"dataframe\">\n",
       "  <thead>\n",
       "    <tr style=\"text-align: right;\">\n",
       "      <th></th>\n",
       "      <th>numero_medio_quartos_por_residencia</th>\n",
       "      <th>idade_media_residencias</th>\n",
       "      <th>taxa_criminalidade</th>\n",
       "      <th>proporcao_lotes</th>\n",
       "      <th>proporcao_empresas</th>\n",
       "      <th>rio_no_bairro</th>\n",
       "      <th>taxa_poluicao</th>\n",
       "      <th>distancia_centro</th>\n",
       "      <th>index_acessibilidade</th>\n",
       "      <th>imposto_residencial</th>\n",
       "      <th>taxa_professores</th>\n",
       "      <th>consumo_medio_energia</th>\n",
       "      <th>taxa_desabrigados</th>\n",
       "      <th>taxa_ocupacao</th>\n",
       "    </tr>\n",
       "  </thead>\n",
       "  <tbody>\n",
       "    <tr>\n",
       "      <th>count</th>\n",
       "      <td>500.000000</td>\n",
       "      <td>500.000000</td>\n",
       "      <td>500.000000</td>\n",
       "      <td>500.000000</td>\n",
       "      <td>500.000000</td>\n",
       "      <td>500.000000</td>\n",
       "      <td>500.000000</td>\n",
       "      <td>500.000000</td>\n",
       "      <td>500.000000</td>\n",
       "      <td>500.000000</td>\n",
       "      <td>500.000000</td>\n",
       "      <td>500.000000</td>\n",
       "      <td>500.000000</td>\n",
       "      <td>500.000000</td>\n",
       "    </tr>\n",
       "    <tr>\n",
       "      <th>mean</th>\n",
       "      <td>6.282970</td>\n",
       "      <td>68.424600</td>\n",
       "      <td>3.655786</td>\n",
       "      <td>11.500000</td>\n",
       "      <td>11.131740</td>\n",
       "      <td>0.070000</td>\n",
       "      <td>0.554451</td>\n",
       "      <td>3.811932</td>\n",
       "      <td>9.642000</td>\n",
       "      <td>409.624000</td>\n",
       "      <td>18.428600</td>\n",
       "      <td>356.208040</td>\n",
       "      <td>12.698740</td>\n",
       "      <td>22.568000</td>\n",
       "    </tr>\n",
       "    <tr>\n",
       "      <th>std</th>\n",
       "      <td>0.705421</td>\n",
       "      <td>28.272145</td>\n",
       "      <td>8.644375</td>\n",
       "      <td>23.428739</td>\n",
       "      <td>6.900712</td>\n",
       "      <td>0.255403</td>\n",
       "      <td>0.116550</td>\n",
       "      <td>2.112591</td>\n",
       "      <td>8.715604</td>\n",
       "      <td>168.998579</td>\n",
       "      <td>2.162553</td>\n",
       "      <td>91.741874</td>\n",
       "      <td>7.164928</td>\n",
       "      <td>9.235707</td>\n",
       "    </tr>\n",
       "    <tr>\n",
       "      <th>min</th>\n",
       "      <td>3.561000</td>\n",
       "      <td>2.900000</td>\n",
       "      <td>0.006320</td>\n",
       "      <td>0.000000</td>\n",
       "      <td>0.460000</td>\n",
       "      <td>0.000000</td>\n",
       "      <td>0.385000</td>\n",
       "      <td>1.129600</td>\n",
       "      <td>1.000000</td>\n",
       "      <td>187.000000</td>\n",
       "      <td>12.600000</td>\n",
       "      <td>0.320000</td>\n",
       "      <td>1.730000</td>\n",
       "      <td>5.000000</td>\n",
       "    </tr>\n",
       "    <tr>\n",
       "      <th>25%</th>\n",
       "      <td>5.883000</td>\n",
       "      <td>44.225000</td>\n",
       "      <td>0.082598</td>\n",
       "      <td>0.000000</td>\n",
       "      <td>5.130000</td>\n",
       "      <td>0.000000</td>\n",
       "      <td>0.448750</td>\n",
       "      <td>2.087875</td>\n",
       "      <td>4.000000</td>\n",
       "      <td>281.000000</td>\n",
       "      <td>17.225000</td>\n",
       "      <td>375.085000</td>\n",
       "      <td>6.990000</td>\n",
       "      <td>17.075000</td>\n",
       "    </tr>\n",
       "    <tr>\n",
       "      <th>50%</th>\n",
       "      <td>6.208500</td>\n",
       "      <td>77.150000</td>\n",
       "      <td>0.266005</td>\n",
       "      <td>0.000000</td>\n",
       "      <td>9.125000</td>\n",
       "      <td>0.000000</td>\n",
       "      <td>0.538000</td>\n",
       "      <td>3.267450</td>\n",
       "      <td>5.000000</td>\n",
       "      <td>330.000000</td>\n",
       "      <td>19.000000</td>\n",
       "      <td>391.305000</td>\n",
       "      <td>11.430000</td>\n",
       "      <td>21.200000</td>\n",
       "    </tr>\n",
       "    <tr>\n",
       "      <th>75%</th>\n",
       "      <td>6.620500</td>\n",
       "      <td>94.100000</td>\n",
       "      <td>3.694070</td>\n",
       "      <td>12.500000</td>\n",
       "      <td>18.100000</td>\n",
       "      <td>0.000000</td>\n",
       "      <td>0.624000</td>\n",
       "      <td>5.214600</td>\n",
       "      <td>24.000000</td>\n",
       "      <td>666.000000</td>\n",
       "      <td>20.200000</td>\n",
       "      <td>396.157500</td>\n",
       "      <td>17.092500</td>\n",
       "      <td>25.000000</td>\n",
       "    </tr>\n",
       "    <tr>\n",
       "      <th>max</th>\n",
       "      <td>8.780000</td>\n",
       "      <td>100.000000</td>\n",
       "      <td>88.976200</td>\n",
       "      <td>100.000000</td>\n",
       "      <td>27.740000</td>\n",
       "      <td>1.000000</td>\n",
       "      <td>0.871000</td>\n",
       "      <td>12.126500</td>\n",
       "      <td>24.000000</td>\n",
       "      <td>711.000000</td>\n",
       "      <td>22.000000</td>\n",
       "      <td>396.900000</td>\n",
       "      <td>37.970000</td>\n",
       "      <td>50.000000</td>\n",
       "    </tr>\n",
       "  </tbody>\n",
       "</table>\n",
       "</div>"
      ],
      "text/plain": [
       "       numero_medio_quartos_por_residencia  idade_media_residencias  \\\n",
       "count                           500.000000               500.000000   \n",
       "mean                              6.282970                68.424600   \n",
       "std                               0.705421                28.272145   \n",
       "min                               3.561000                 2.900000   \n",
       "25%                               5.883000                44.225000   \n",
       "50%                               6.208500                77.150000   \n",
       "75%                               6.620500                94.100000   \n",
       "max                               8.780000               100.000000   \n",
       "\n",
       "       taxa_criminalidade  proporcao_lotes  proporcao_empresas  rio_no_bairro  \\\n",
       "count          500.000000       500.000000          500.000000     500.000000   \n",
       "mean             3.655786        11.500000           11.131740       0.070000   \n",
       "std              8.644375        23.428739            6.900712       0.255403   \n",
       "min              0.006320         0.000000            0.460000       0.000000   \n",
       "25%              0.082598         0.000000            5.130000       0.000000   \n",
       "50%              0.266005         0.000000            9.125000       0.000000   \n",
       "75%              3.694070        12.500000           18.100000       0.000000   \n",
       "max             88.976200       100.000000           27.740000       1.000000   \n",
       "\n",
       "       taxa_poluicao  distancia_centro  index_acessibilidade  \\\n",
       "count     500.000000        500.000000            500.000000   \n",
       "mean        0.554451          3.811932              9.642000   \n",
       "std         0.116550          2.112591              8.715604   \n",
       "min         0.385000          1.129600              1.000000   \n",
       "25%         0.448750          2.087875              4.000000   \n",
       "50%         0.538000          3.267450              5.000000   \n",
       "75%         0.624000          5.214600             24.000000   \n",
       "max         0.871000         12.126500             24.000000   \n",
       "\n",
       "       imposto_residencial  taxa_professores  consumo_medio_energia  \\\n",
       "count           500.000000        500.000000             500.000000   \n",
       "mean            409.624000         18.428600             356.208040   \n",
       "std             168.998579          2.162553              91.741874   \n",
       "min             187.000000         12.600000               0.320000   \n",
       "25%             281.000000         17.225000             375.085000   \n",
       "50%             330.000000         19.000000             391.305000   \n",
       "75%             666.000000         20.200000             396.157500   \n",
       "max             711.000000         22.000000             396.900000   \n",
       "\n",
       "       taxa_desabrigados  taxa_ocupacao  \n",
       "count         500.000000     500.000000  \n",
       "mean           12.698740      22.568000  \n",
       "std             7.164928       9.235707  \n",
       "min             1.730000       5.000000  \n",
       "25%             6.990000      17.075000  \n",
       "50%            11.430000      21.200000  \n",
       "75%            17.092500      25.000000  \n",
       "max            37.970000      50.000000  "
      ]
     },
     "execution_count": 11,
     "metadata": {},
     "output_type": "execute_result"
    }
   ],
   "source": [
    "# Resumo estatístico\n",
    "# O metodo describe aparecem todas as variaveis classificadas como numericas. cuidado pq a classificação pode não estar correta\n",
    "# Rio de bairro, por ex.\n",
    "dados.describe()"
   ]
  },
  {
   "cell_type": "markdown",
   "id": "661115cc",
   "metadata": {},
   "source": [
    "Análise:\n",
    "\n",
    "- Existe uma média de cerca de 6,28 quartos por habitação (variável **numero_medio_quartos_por_residencia**).\n",
    "\n",
    "\n",
    "- Há uma variação muito grande para a taxa de criminalidade (variável **taxa_criminalidade**), pois podemos ver que a taxa de criminalidade mais baixa é de 0,006, enquanto a mais alta é de 88,97. Provavelmente são outliers, pois são muito diferentes da mediana e até 75% do quartil do 3º quartil e bem distante da média\n",
    "\n",
    "\n",
    "- Mesma observação anterior para a variável **proporcao_lotes**.\n",
    "\n",
    "\n",
    "- Antes de realizar a modelagem é importante verificar a distribuição univariada das variáveis e aproveitaremos a oportunidade para interpretar o dicionário de dados."
   ]
  },
  {
   "cell_type": "markdown",
   "id": "c7c9836d",
   "metadata": {},
   "source": [
    "<font color= darkred > <b> Interpretando o dicionário de Dados com a Analise Univariada </b> </font>"
   ]
  },
  {
   "cell_type": "code",
   "execution_count": 12,
   "id": "71fd72b9",
   "metadata": {},
   "outputs": [
    {
     "data": {
      "text/plain": [
       "Index(['numero_medio_quartos_por_residencia', 'idade_media_residencias',\n",
       "       'taxa_criminalidade', 'proporcao_lotes', 'proporcao_empresas',\n",
       "       'rio_no_bairro', 'taxa_poluicao', 'distancia_centro',\n",
       "       'index_acessibilidade', 'imposto_residencial', 'taxa_professores',\n",
       "       'consumo_medio_energia', 'taxa_desabrigados', 'taxa_ocupacao'],\n",
       "      dtype='object')"
      ]
     },
     "execution_count": 12,
     "metadata": {},
     "output_type": "execute_result"
    }
   ],
   "source": [
    "dados.columns"
   ]
  },
  {
   "cell_type": "markdown",
   "id": "c18d9520",
   "metadata": {},
   "source": [
    "Análise: \n",
    "\n",
    "- Aqui nenhum problema e a variável parece seguir uma distribuição normal, com a maioria dos valores ao redor da média."
   ]
  },
  {
   "cell_type": "code",
   "execution_count": 13,
   "id": "89f7b311",
   "metadata": {},
   "outputs": [
    {
     "ename": "OptionError",
     "evalue": "\"No such keys(s): 'mode.use_inf_as_null'\"",
     "output_type": "error",
     "traceback": [
      "\u001b[1;31m---------------------------------------------------------------------------\u001b[0m",
      "\u001b[1;31mOptionError\u001b[0m                               Traceback (most recent call last)",
      "\u001b[1;32m~\\AppData\\Local\\Temp\\ipykernel_2748\\3001615554.py\u001b[0m in \u001b[0;36m<module>\u001b[1;34m\u001b[0m\n\u001b[0;32m      1\u001b[0m \u001b[1;31m# Plot do histograma\u001b[0m\u001b[1;33m\u001b[0m\u001b[1;33m\u001b[0m\u001b[0m\n\u001b[0;32m      2\u001b[0m \u001b[0mplt\u001b[0m\u001b[1;33m.\u001b[0m\u001b[0mfigure\u001b[0m\u001b[1;33m(\u001b[0m\u001b[0mfigsize\u001b[0m \u001b[1;33m=\u001b[0m \u001b[1;33m(\u001b[0m\u001b[1;36m7\u001b[0m\u001b[1;33m,\u001b[0m \u001b[1;36m4\u001b[0m\u001b[1;33m)\u001b[0m\u001b[1;33m)\u001b[0m\u001b[1;33m\u001b[0m\u001b[1;33m\u001b[0m\u001b[0m\n\u001b[1;32m----> 3\u001b[1;33m \u001b[0msns\u001b[0m\u001b[1;33m.\u001b[0m\u001b[0mhistplot\u001b[0m\u001b[1;33m(\u001b[0m\u001b[0mdata\u001b[0m \u001b[1;33m=\u001b[0m \u001b[0mdados\u001b[0m\u001b[1;33m,\u001b[0m \u001b[0mx\u001b[0m \u001b[1;33m=\u001b[0m \u001b[0mdados\u001b[0m\u001b[1;33m.\u001b[0m\u001b[0mnumero_medio_quartos_por_residencia\u001b[0m\u001b[1;33m,\u001b[0m \u001b[0mkde\u001b[0m \u001b[1;33m=\u001b[0m \u001b[1;32mTrue\u001b[0m\u001b[1;33m)\u001b[0m\u001b[1;33m\u001b[0m\u001b[1;33m\u001b[0m\u001b[0m\n\u001b[0m\u001b[0;32m      4\u001b[0m \u001b[0mplt\u001b[0m\u001b[1;33m.\u001b[0m\u001b[0mshow\u001b[0m\u001b[1;33m(\u001b[0m\u001b[1;33m)\u001b[0m\u001b[1;33m\u001b[0m\u001b[1;33m\u001b[0m\u001b[0m\n",
      "\u001b[1;32m~\\anaconda3\\lib\\site-packages\\seaborn\\distributions.py\u001b[0m in \u001b[0;36mhistplot\u001b[1;34m(data, x, y, hue, weights, stat, bins, binwidth, binrange, discrete, cumulative, common_bins, common_norm, multiple, element, fill, shrink, kde, kde_kws, line_kws, thresh, pthresh, pmax, cbar, cbar_ax, cbar_kws, palette, hue_order, hue_norm, color, log_scale, legend, ax, **kwargs)\u001b[0m\n\u001b[0;32m   1460\u001b[0m     \u001b[1;32mif\u001b[0m \u001b[0mp\u001b[0m\u001b[1;33m.\u001b[0m\u001b[0munivariate\u001b[0m\u001b[1;33m:\u001b[0m\u001b[1;33m\u001b[0m\u001b[1;33m\u001b[0m\u001b[0m\n\u001b[0;32m   1461\u001b[0m \u001b[1;33m\u001b[0m\u001b[0m\n\u001b[1;32m-> 1462\u001b[1;33m         p.plot_univariate_histogram(\n\u001b[0m\u001b[0;32m   1463\u001b[0m             \u001b[0mmultiple\u001b[0m\u001b[1;33m=\u001b[0m\u001b[0mmultiple\u001b[0m\u001b[1;33m,\u001b[0m\u001b[1;33m\u001b[0m\u001b[1;33m\u001b[0m\u001b[0m\n\u001b[0;32m   1464\u001b[0m             \u001b[0melement\u001b[0m\u001b[1;33m=\u001b[0m\u001b[0melement\u001b[0m\u001b[1;33m,\u001b[0m\u001b[1;33m\u001b[0m\u001b[1;33m\u001b[0m\u001b[0m\n",
      "\u001b[1;32m~\\anaconda3\\lib\\site-packages\\seaborn\\distributions.py\u001b[0m in \u001b[0;36mplot_univariate_histogram\u001b[1;34m(self, multiple, element, fill, common_norm, common_bins, shrink, kde, kde_kws, color, legend, line_kws, estimate_kws, **plot_kws)\u001b[0m\n\u001b[0;32m    416\u001b[0m             \u001b[0mkde_kws\u001b[0m\u001b[1;33m[\u001b[0m\u001b[1;34m\"cumulative\"\u001b[0m\u001b[1;33m]\u001b[0m \u001b[1;33m=\u001b[0m \u001b[0mestimate_kws\u001b[0m\u001b[1;33m[\u001b[0m\u001b[1;34m\"cumulative\"\u001b[0m\u001b[1;33m]\u001b[0m\u001b[1;33m\u001b[0m\u001b[1;33m\u001b[0m\u001b[0m\n\u001b[0;32m    417\u001b[0m             \u001b[0mlog_scale\u001b[0m \u001b[1;33m=\u001b[0m \u001b[0mself\u001b[0m\u001b[1;33m.\u001b[0m\u001b[0m_log_scaled\u001b[0m\u001b[1;33m(\u001b[0m\u001b[0mself\u001b[0m\u001b[1;33m.\u001b[0m\u001b[0mdata_variable\u001b[0m\u001b[1;33m)\u001b[0m\u001b[1;33m\u001b[0m\u001b[1;33m\u001b[0m\u001b[0m\n\u001b[1;32m--> 418\u001b[1;33m             densities = self._compute_univariate_density(\n\u001b[0m\u001b[0;32m    419\u001b[0m                 \u001b[0mself\u001b[0m\u001b[1;33m.\u001b[0m\u001b[0mdata_variable\u001b[0m\u001b[1;33m,\u001b[0m\u001b[1;33m\u001b[0m\u001b[1;33m\u001b[0m\u001b[0m\n\u001b[0;32m    420\u001b[0m                 \u001b[0mcommon_norm\u001b[0m\u001b[1;33m,\u001b[0m\u001b[1;33m\u001b[0m\u001b[1;33m\u001b[0m\u001b[0m\n",
      "\u001b[1;32m~\\anaconda3\\lib\\site-packages\\seaborn\\distributions.py\u001b[0m in \u001b[0;36m_compute_univariate_density\u001b[1;34m(self, data_variable, common_norm, common_grid, estimate_kws, log_scale, warn_singular)\u001b[0m\n\u001b[0;32m    301\u001b[0m         \u001b[0mdensities\u001b[0m \u001b[1;33m=\u001b[0m \u001b[1;33m{\u001b[0m\u001b[1;33m}\u001b[0m\u001b[1;33m\u001b[0m\u001b[1;33m\u001b[0m\u001b[0m\n\u001b[0;32m    302\u001b[0m \u001b[1;33m\u001b[0m\u001b[0m\n\u001b[1;32m--> 303\u001b[1;33m         \u001b[1;32mfor\u001b[0m \u001b[0msub_vars\u001b[0m\u001b[1;33m,\u001b[0m \u001b[0msub_data\u001b[0m \u001b[1;32min\u001b[0m \u001b[0mself\u001b[0m\u001b[1;33m.\u001b[0m\u001b[0miter_data\u001b[0m\u001b[1;33m(\u001b[0m\u001b[1;34m\"hue\"\u001b[0m\u001b[1;33m,\u001b[0m \u001b[0mfrom_comp_data\u001b[0m\u001b[1;33m=\u001b[0m\u001b[1;32mTrue\u001b[0m\u001b[1;33m)\u001b[0m\u001b[1;33m:\u001b[0m\u001b[1;33m\u001b[0m\u001b[1;33m\u001b[0m\u001b[0m\n\u001b[0m\u001b[0;32m    304\u001b[0m \u001b[1;33m\u001b[0m\u001b[0m\n\u001b[0;32m    305\u001b[0m             \u001b[1;31m# Extract the data points from this sub set and remove nulls\u001b[0m\u001b[1;33m\u001b[0m\u001b[1;33m\u001b[0m\u001b[0m\n",
      "\u001b[1;32m~\\anaconda3\\lib\\site-packages\\seaborn\\_core.py\u001b[0m in \u001b[0;36miter_data\u001b[1;34m(self, grouping_vars, reverse, from_comp_data)\u001b[0m\n\u001b[0;32m    981\u001b[0m \u001b[1;33m\u001b[0m\u001b[0m\n\u001b[0;32m    982\u001b[0m         \u001b[1;32mif\u001b[0m \u001b[0mfrom_comp_data\u001b[0m\u001b[1;33m:\u001b[0m\u001b[1;33m\u001b[0m\u001b[1;33m\u001b[0m\u001b[0m\n\u001b[1;32m--> 983\u001b[1;33m             \u001b[0mdata\u001b[0m \u001b[1;33m=\u001b[0m \u001b[0mself\u001b[0m\u001b[1;33m.\u001b[0m\u001b[0mcomp_data\u001b[0m\u001b[1;33m\u001b[0m\u001b[1;33m\u001b[0m\u001b[0m\n\u001b[0m\u001b[0;32m    984\u001b[0m         \u001b[1;32melse\u001b[0m\u001b[1;33m:\u001b[0m\u001b[1;33m\u001b[0m\u001b[1;33m\u001b[0m\u001b[0m\n\u001b[0;32m    985\u001b[0m             \u001b[0mdata\u001b[0m \u001b[1;33m=\u001b[0m \u001b[0mself\u001b[0m\u001b[1;33m.\u001b[0m\u001b[0mplot_data\u001b[0m\u001b[1;33m\u001b[0m\u001b[1;33m\u001b[0m\u001b[0m\n",
      "\u001b[1;32m~\\anaconda3\\lib\\site-packages\\seaborn\\_core.py\u001b[0m in \u001b[0;36mcomp_data\u001b[1;34m(self)\u001b[0m\n\u001b[0;32m   1052\u001b[0m                 \u001b[1;31m# Use the converter assigned to the axis to get a float representation\u001b[0m\u001b[1;33m\u001b[0m\u001b[1;33m\u001b[0m\u001b[0m\n\u001b[0;32m   1053\u001b[0m                 \u001b[1;31m# of the data, passing np.nan or pd.NA through (pd.NA becomes np.nan)\u001b[0m\u001b[1;33m\u001b[0m\u001b[1;33m\u001b[0m\u001b[0m\n\u001b[1;32m-> 1054\u001b[1;33m                 \u001b[1;32mwith\u001b[0m \u001b[0mpd\u001b[0m\u001b[1;33m.\u001b[0m\u001b[0moption_context\u001b[0m\u001b[1;33m(\u001b[0m\u001b[1;34m'mode.use_inf_as_null'\u001b[0m\u001b[1;33m,\u001b[0m \u001b[1;32mTrue\u001b[0m\u001b[1;33m)\u001b[0m\u001b[1;33m:\u001b[0m\u001b[1;33m\u001b[0m\u001b[1;33m\u001b[0m\u001b[0m\n\u001b[0m\u001b[0;32m   1055\u001b[0m                     \u001b[0morig\u001b[0m \u001b[1;33m=\u001b[0m \u001b[0mself\u001b[0m\u001b[1;33m.\u001b[0m\u001b[0mplot_data\u001b[0m\u001b[1;33m[\u001b[0m\u001b[0mvar\u001b[0m\u001b[1;33m]\u001b[0m\u001b[1;33m.\u001b[0m\u001b[0mdropna\u001b[0m\u001b[1;33m(\u001b[0m\u001b[1;33m)\u001b[0m\u001b[1;33m\u001b[0m\u001b[1;33m\u001b[0m\u001b[0m\n\u001b[0;32m   1056\u001b[0m                 \u001b[0mcomp_col\u001b[0m \u001b[1;33m=\u001b[0m \u001b[0mpd\u001b[0m\u001b[1;33m.\u001b[0m\u001b[0mSeries\u001b[0m\u001b[1;33m(\u001b[0m\u001b[0mindex\u001b[0m\u001b[1;33m=\u001b[0m\u001b[0morig\u001b[0m\u001b[1;33m.\u001b[0m\u001b[0mindex\u001b[0m\u001b[1;33m,\u001b[0m \u001b[0mdtype\u001b[0m\u001b[1;33m=\u001b[0m\u001b[0mfloat\u001b[0m\u001b[1;33m,\u001b[0m \u001b[0mname\u001b[0m\u001b[1;33m=\u001b[0m\u001b[0mvar\u001b[0m\u001b[1;33m)\u001b[0m\u001b[1;33m\u001b[0m\u001b[1;33m\u001b[0m\u001b[0m\n",
      "\u001b[1;32m~\\anaconda3\\lib\\site-packages\\pandas\\_config\\config.py\u001b[0m in \u001b[0;36m__enter__\u001b[1;34m(self)\u001b[0m\n\u001b[0;32m    439\u001b[0m \u001b[1;33m\u001b[0m\u001b[0m\n\u001b[0;32m    440\u001b[0m     \u001b[1;32mdef\u001b[0m \u001b[0m__enter__\u001b[0m\u001b[1;33m(\u001b[0m\u001b[0mself\u001b[0m\u001b[1;33m)\u001b[0m \u001b[1;33m->\u001b[0m \u001b[1;32mNone\u001b[0m\u001b[1;33m:\u001b[0m\u001b[1;33m\u001b[0m\u001b[1;33m\u001b[0m\u001b[0m\n\u001b[1;32m--> 441\u001b[1;33m         \u001b[0mself\u001b[0m\u001b[1;33m.\u001b[0m\u001b[0mundo\u001b[0m \u001b[1;33m=\u001b[0m \u001b[1;33m[\u001b[0m\u001b[1;33m(\u001b[0m\u001b[0mpat\u001b[0m\u001b[1;33m,\u001b[0m \u001b[0m_get_option\u001b[0m\u001b[1;33m(\u001b[0m\u001b[0mpat\u001b[0m\u001b[1;33m,\u001b[0m \u001b[0msilent\u001b[0m\u001b[1;33m=\u001b[0m\u001b[1;32mTrue\u001b[0m\u001b[1;33m)\u001b[0m\u001b[1;33m)\u001b[0m \u001b[1;32mfor\u001b[0m \u001b[0mpat\u001b[0m\u001b[1;33m,\u001b[0m \u001b[0mval\u001b[0m \u001b[1;32min\u001b[0m \u001b[0mself\u001b[0m\u001b[1;33m.\u001b[0m\u001b[0mops\u001b[0m\u001b[1;33m]\u001b[0m\u001b[1;33m\u001b[0m\u001b[1;33m\u001b[0m\u001b[0m\n\u001b[0m\u001b[0;32m    442\u001b[0m \u001b[1;33m\u001b[0m\u001b[0m\n\u001b[0;32m    443\u001b[0m         \u001b[1;32mfor\u001b[0m \u001b[0mpat\u001b[0m\u001b[1;33m,\u001b[0m \u001b[0mval\u001b[0m \u001b[1;32min\u001b[0m \u001b[0mself\u001b[0m\u001b[1;33m.\u001b[0m\u001b[0mops\u001b[0m\u001b[1;33m:\u001b[0m\u001b[1;33m\u001b[0m\u001b[1;33m\u001b[0m\u001b[0m\n",
      "\u001b[1;32m~\\anaconda3\\lib\\site-packages\\pandas\\_config\\config.py\u001b[0m in \u001b[0;36m<listcomp>\u001b[1;34m(.0)\u001b[0m\n\u001b[0;32m    439\u001b[0m \u001b[1;33m\u001b[0m\u001b[0m\n\u001b[0;32m    440\u001b[0m     \u001b[1;32mdef\u001b[0m \u001b[0m__enter__\u001b[0m\u001b[1;33m(\u001b[0m\u001b[0mself\u001b[0m\u001b[1;33m)\u001b[0m \u001b[1;33m->\u001b[0m \u001b[1;32mNone\u001b[0m\u001b[1;33m:\u001b[0m\u001b[1;33m\u001b[0m\u001b[1;33m\u001b[0m\u001b[0m\n\u001b[1;32m--> 441\u001b[1;33m         \u001b[0mself\u001b[0m\u001b[1;33m.\u001b[0m\u001b[0mundo\u001b[0m \u001b[1;33m=\u001b[0m \u001b[1;33m[\u001b[0m\u001b[1;33m(\u001b[0m\u001b[0mpat\u001b[0m\u001b[1;33m,\u001b[0m \u001b[0m_get_option\u001b[0m\u001b[1;33m(\u001b[0m\u001b[0mpat\u001b[0m\u001b[1;33m,\u001b[0m \u001b[0msilent\u001b[0m\u001b[1;33m=\u001b[0m\u001b[1;32mTrue\u001b[0m\u001b[1;33m)\u001b[0m\u001b[1;33m)\u001b[0m \u001b[1;32mfor\u001b[0m \u001b[0mpat\u001b[0m\u001b[1;33m,\u001b[0m \u001b[0mval\u001b[0m \u001b[1;32min\u001b[0m \u001b[0mself\u001b[0m\u001b[1;33m.\u001b[0m\u001b[0mops\u001b[0m\u001b[1;33m]\u001b[0m\u001b[1;33m\u001b[0m\u001b[1;33m\u001b[0m\u001b[0m\n\u001b[0m\u001b[0;32m    442\u001b[0m \u001b[1;33m\u001b[0m\u001b[0m\n\u001b[0;32m    443\u001b[0m         \u001b[1;32mfor\u001b[0m \u001b[0mpat\u001b[0m\u001b[1;33m,\u001b[0m \u001b[0mval\u001b[0m \u001b[1;32min\u001b[0m \u001b[0mself\u001b[0m\u001b[1;33m.\u001b[0m\u001b[0mops\u001b[0m\u001b[1;33m:\u001b[0m\u001b[1;33m\u001b[0m\u001b[1;33m\u001b[0m\u001b[0m\n",
      "\u001b[1;32m~\\anaconda3\\lib\\site-packages\\pandas\\_config\\config.py\u001b[0m in \u001b[0;36m_get_option\u001b[1;34m(pat, silent)\u001b[0m\n\u001b[0;32m    133\u001b[0m \u001b[1;33m\u001b[0m\u001b[0m\n\u001b[0;32m    134\u001b[0m \u001b[1;32mdef\u001b[0m \u001b[0m_get_option\u001b[0m\u001b[1;33m(\u001b[0m\u001b[0mpat\u001b[0m\u001b[1;33m:\u001b[0m \u001b[0mstr\u001b[0m\u001b[1;33m,\u001b[0m \u001b[0msilent\u001b[0m\u001b[1;33m:\u001b[0m \u001b[0mbool\u001b[0m \u001b[1;33m=\u001b[0m \u001b[1;32mFalse\u001b[0m\u001b[1;33m)\u001b[0m \u001b[1;33m->\u001b[0m \u001b[0mAny\u001b[0m\u001b[1;33m:\u001b[0m\u001b[1;33m\u001b[0m\u001b[1;33m\u001b[0m\u001b[0m\n\u001b[1;32m--> 135\u001b[1;33m     \u001b[0mkey\u001b[0m \u001b[1;33m=\u001b[0m \u001b[0m_get_single_key\u001b[0m\u001b[1;33m(\u001b[0m\u001b[0mpat\u001b[0m\u001b[1;33m,\u001b[0m \u001b[0msilent\u001b[0m\u001b[1;33m)\u001b[0m\u001b[1;33m\u001b[0m\u001b[1;33m\u001b[0m\u001b[0m\n\u001b[0m\u001b[0;32m    136\u001b[0m \u001b[1;33m\u001b[0m\u001b[0m\n\u001b[0;32m    137\u001b[0m     \u001b[1;31m# walk the nested dict\u001b[0m\u001b[1;33m\u001b[0m\u001b[1;33m\u001b[0m\u001b[0m\n",
      "\u001b[1;32m~\\anaconda3\\lib\\site-packages\\pandas\\_config\\config.py\u001b[0m in \u001b[0;36m_get_single_key\u001b[1;34m(pat, silent)\u001b[0m\n\u001b[0;32m    119\u001b[0m         \u001b[1;32mif\u001b[0m \u001b[1;32mnot\u001b[0m \u001b[0msilent\u001b[0m\u001b[1;33m:\u001b[0m\u001b[1;33m\u001b[0m\u001b[1;33m\u001b[0m\u001b[0m\n\u001b[0;32m    120\u001b[0m             \u001b[0m_warn_if_deprecated\u001b[0m\u001b[1;33m(\u001b[0m\u001b[0mpat\u001b[0m\u001b[1;33m)\u001b[0m\u001b[1;33m\u001b[0m\u001b[1;33m\u001b[0m\u001b[0m\n\u001b[1;32m--> 121\u001b[1;33m         \u001b[1;32mraise\u001b[0m \u001b[0mOptionError\u001b[0m\u001b[1;33m(\u001b[0m\u001b[1;34mf\"No such keys(s): {repr(pat)}\"\u001b[0m\u001b[1;33m)\u001b[0m\u001b[1;33m\u001b[0m\u001b[1;33m\u001b[0m\u001b[0m\n\u001b[0m\u001b[0;32m    122\u001b[0m     \u001b[1;32mif\u001b[0m \u001b[0mlen\u001b[0m\u001b[1;33m(\u001b[0m\u001b[0mkeys\u001b[0m\u001b[1;33m)\u001b[0m \u001b[1;33m>\u001b[0m \u001b[1;36m1\u001b[0m\u001b[1;33m:\u001b[0m\u001b[1;33m\u001b[0m\u001b[1;33m\u001b[0m\u001b[0m\n\u001b[0;32m    123\u001b[0m         \u001b[1;32mraise\u001b[0m \u001b[0mOptionError\u001b[0m\u001b[1;33m(\u001b[0m\u001b[1;34m\"Pattern matched multiple keys\"\u001b[0m\u001b[1;33m)\u001b[0m\u001b[1;33m\u001b[0m\u001b[1;33m\u001b[0m\u001b[0m\n",
      "\u001b[1;31mOptionError\u001b[0m: \"No such keys(s): 'mode.use_inf_as_null'\""
     ]
    },
    {
     "data": {
      "image/png": "[encoded data removed]",
      "text/plain": [
       "<Figure size 700x400 with 1 Axes>"
      ]
     },
     "metadata": {},
     "output_type": "display_data"
    }
   ],
   "source": [
    "# Plot do histograma\n",
    "plt.figure(figsize = (7, 4))\n",
    "sns.histplot(data = dados, x = dados.numero_medio_quartos_por_residencia, kde = True)\n",
    "plt.show()"
   ]
  },
  {
   "cell_type": "code",
   "execution_count": null,
   "id": "29de37c7",
   "metadata": {},
   "outputs": [],
   "source": [
    "# Plot do histograma\n",
    "plt.figure(figsize = (7, 4))\n",
    "sns.histplot(data = dados, x = dados.idade_media_residencias, kde = True, color = 'green')\n",
    "plt.show()"
   ]
  },
  {
   "cell_type": "markdown",
   "id": "2445bd1e",
   "metadata": {},
   "source": [
    "Análise: \n",
    "\n",
    "- A distribuição da variável **idade_media_residencias** sugere que a maioria das residências tem mais de 80 anos."
   ]
  },
  {
   "cell_type": "code",
   "execution_count": null,
   "id": "26b3e6b5",
   "metadata": {},
   "outputs": [],
   "source": [
    "# Plot do histograma\n",
    "plt.figure(figsize = (7, 4))\n",
    "sns.histplot(data = dados, x = dados.taxa_criminalidade, kde = True, color = 'red')\n",
    "plt.show()"
   ]
  },
  {
   "cell_type": "code",
   "execution_count": null,
   "id": "c9f65304",
   "metadata": {},
   "outputs": [],
   "source": [
    "# Plot do histograma\n",
    "plt.figure(figsize = (7, 4))\n",
    "sns.histplot(data = dados, x = dados.proporcao_lotes, kde = True, color = 'magenta')\n",
    "plt.show()"
   ]
  },
  {
   "cell_type": "markdown",
   "id": "945b32f9",
   "metadata": {},
   "source": [
    "Análise: \n",
    "\n",
    "- As variáveis **taxa_criminalidade** e **proporcao_lotes** apresentam assimetria positiva. Isso sugere que a maioria das áreas tem taxas de criminalidade mais baixas, e a propporcao de lotes vazios é baixa na maioria dos bairros.  Mas temos um outlier nas 2 variaveis, tem que ver se é erro ou se procede"
   ]
  },
  {
   "cell_type": "code",
   "execution_count": null,
   "id": "3151f611",
   "metadata": {},
   "outputs": [],
   "source": [
    "# Plot do histograma\n",
    "plt.figure(figsize = (7, 4))\n",
    "sns.histplot(data = dados, x = dados.proporcao_empresas, kde = True, color = 'brown')\n",
    "plt.show()"
   ]
  },
  {
   "cell_type": "markdown",
   "id": "8cbfa970",
   "metadata": {},
   "source": [
    "Análise: \n",
    "\n",
    "- Não há como extrair um padrão claro. Isso é um forte indício que essa variável pode não ser relevante para prever a variável alvo."
   ]
  },
  {
   "cell_type": "code",
   "execution_count": null,
   "id": "70458131",
   "metadata": {},
   "outputs": [],
   "source": [
    "# Plot do histograma\n",
    "plt.figure(figsize = (7, 4))\n",
    "sns.histplot(data = dados, x = dados.rio_no_bairro, kde = True, color = 'yellow')\n",
    "plt.show()"
   ]
  },
  {
   "cell_type": "markdown",
   "id": "1e6ba02f",
   "metadata": {},
   "source": [
    "Análise: \n",
    "\n",
    "- A variável **rio_no_bairro**, com apenas 2 valores possíveis 0 e 1, segue uma distribuição binomial e a maioria das residências está longe de algum rio em cada bairro (rio_no_bairro = 0)."
   ]
  },
  {
   "cell_type": "code",
   "execution_count": null,
   "id": "cb045dcf",
   "metadata": {},
   "outputs": [],
   "source": [
    "# Plot do histograma\n",
    "plt.figure(figsize = (7, 4))\n",
    "sns.histplot(data = dados, x = dados.taxa_poluicao, kde = True, color = 'cyan')\n",
    "plt.show()"
   ]
  },
  {
   "cell_type": "markdown",
   "id": "254d76bb",
   "metadata": {},
   "source": [
    "Análise: \n",
    "\n",
    "- A taxa de poluição é baixa para a maioria dos bairros."
   ]
  },
  {
   "cell_type": "code",
   "execution_count": null,
   "id": "62fbdc13",
   "metadata": {},
   "outputs": [],
   "source": [
    "# Plot do histograma\n",
    "plt.figure(figsize = (7, 4))\n",
    "sns.histplot(data = dados, x = dados.distancia_centro, kde = True, color = 'blue')\n",
    "plt.show()"
   ]
  },
  {
   "cell_type": "markdown",
   "id": "099e6c9d",
   "metadata": {},
   "source": [
    "Análise: \n",
    "\n",
    "- A distribuição da variável **distancia_centro** indica que a maioria das casas está bem próxima do centro da cidade (Downtown)."
   ]
  },
  {
   "cell_type": "code",
   "execution_count": null,
   "id": "99ed618f",
   "metadata": {},
   "outputs": [],
   "source": [
    "# Plot do histograma\n",
    "# Proximidade dos bairros com as rodovias mais proximas - acessibilidade, qdo maior mais acessivel (20-25)\n",
    "# Menos acessiveis tem uma barra grande no 5, pouco acessivel e imposto menor.\n",
    "# Obs: qdo olhar para uma variavel e perceber um padrão fora do normal, busque outras variaveis com comportamento similar\n",
    "# as variaveis pode se explicar\n",
    "plt.figure(figsize = (7, 4))\n",
    "sns.histplot(data = dados, x = dados.index_acessibilidade, kde = True, color = 'purple')\n",
    "plt.show()"
   ]
  },
  {
   "cell_type": "code",
   "execution_count": null,
   "id": "02df9525",
   "metadata": {},
   "outputs": [],
   "source": [
    "# Plot do histograma - cor cor tirada do htmlcolorcodes- link abaixo\n",
    "# Qto mais acessivel, maior importa (barra 700)\n",
    "plt.figure(figsize = (7, 4))\n",
    "sns.histplot(data = dados, x = dados.imposto_residencial, kde = True, color = '#b9f2f0')\n",
    "plt.show()"
   ]
  },
  {
   "cell_type": "markdown",
   "id": "cfc87a7b",
   "metadata": {},
   "source": [
    "Para diferentes cores use valores hexadecimais: https://htmlcolorcodes.com"
   ]
  },
  {
   "cell_type": "markdown",
   "id": "1f087e0b",
   "metadata": {},
   "source": [
    "Análise: \n",
    "\n",
    "- A variável **index_acessibilidade** indica quão próximas (em média) as residências estão das rodovias. Quanto maior o índice, mais próximas estão.\n",
    "\n",
    "\n",
    "- A variável **imposto_residencial** é a taxa paga ao governo.\n",
    "\n",
    "\n",
    "- As variáveis **index_acessibilidade** e **imposto_residencial** apresentam distribuição bimodal, indicando que o imposto possivelmente é maior para alguns imóveis que possuem alto índice de acessibilidade às rodovias principais.\n",
    "\n",
    "\n",
    "- Importante notar que as 2 variaveis **apresentam multicolinearidade**, tem alto grau de correlação em 2 variaveis de entrada.\n",
    "- Essas 2 variáveis apresentam mesmo teor de informação, fazendo o modelo reforçar essa informação tornando o modelo tendencioso."
   ]
  },
  {
   "cell_type": "code",
   "execution_count": null,
   "id": "885bf96f",
   "metadata": {},
   "outputs": [],
   "source": [
    "# Plot do histograma\n",
    "plt.figure(figsize = (7, 4))\n",
    "sns.histplot(data = dados, x = dados.taxa_professores, kde = True, color = '#a1c9f4')\n",
    "plt.show()"
   ]
  },
  {
   "cell_type": "markdown",
   "id": "3796df44",
   "metadata": {},
   "source": [
    "Análise: \n",
    "\n",
    "- A maioria dos bairros tem alta taxa de professores."
   ]
  },
  {
   "cell_type": "code",
   "execution_count": null,
   "id": "fa8b8ef1",
   "metadata": {},
   "outputs": [],
   "source": [
    "# Plot do histograma\n",
    "plt.figure(figsize = (7, 4))\n",
    "sns.histplot(data = dados, x = dados.consumo_medio_energia, kde = True, color = '#8de5a1')\n",
    "plt.show()"
   ]
  },
  {
   "cell_type": "markdown",
   "id": "916b8630",
   "metadata": {},
   "source": [
    "Análise: \n",
    "\n",
    "- O consumo médio de energia é muito similar em quase todos os bairros."
   ]
  },
  {
   "cell_type": "code",
   "execution_count": null,
   "id": "4ac64cef",
   "metadata": {},
   "outputs": [],
   "source": [
    "# Plot do histograma\n",
    "plt.figure(figsize = (7, 4))\n",
    "sns.histplot(data = dados, x = dados.taxa_desabrigados, kde = True, color = '#0DEC38')\n",
    "plt.show()"
   ]
  },
  {
   "cell_type": "markdown",
   "id": "19ef4a46",
   "metadata": {},
   "source": [
    "Análise: \n",
    "\n",
    "- A taxa de desabrigados é baixa na maioria dos bairros."
   ]
  },
  {
   "cell_type": "code",
   "execution_count": null,
   "id": "7d6655db",
   "metadata": {},
   "outputs": [],
   "source": [
    "# Plot do histograma\n",
    "plt.figure(figsize = (7, 4))\n",
    "sns.histplot(data = dados, x = dados.taxa_ocupacao, kde = True, color = '#660465')\n",
    "plt.show()"
   ]
  },
  {
   "cell_type": "markdown",
   "id": "b1414d5e",
   "metadata": {},
   "source": [
    "Análise: \n",
    "\n",
    "#### A variável dependente (variavel alvo) parece estar ligeiramente assimétrica à direita.(skewness)\n",
    "- Valores  negativos  para  a  assimetria  indicam  dados  distorcidos  à  esquerda  e  valores positivos para a assimetria indicam dados distorcidos à direita\n",
    "-  Se  os  dados  forem  multimodais  (tiverem  duas  modas  oudois  valores  que aparecem com mais frequência), pode afetar o sinal da assimetria\n",
    "- Para  uma  distribuição  unimodal  (uma  única  moda),  a  inclinação  negativa  geralmente indica  que  a  cauda  está  no  lado  esquerdo  da  distribuição  e  a  inclinação  positiva  indica  que  a cauda está à direita\n",
    "- Um valor de assimetria maior que 1 ou menor que -1 indica uma distribuição altamente distorcida. Um valor entre -0,5 e -1 ou 0,5 e 1 é moderadamente distorcido. Um valor entre -0,5 e 0,5 indica que a distribuição é bastantesimétrica\n",
    "\n",
    "##### Portanto a variavel taxa_ocupação não parece seguir uma distribuição Normal oq é um problema pra usá-la na Regressão Linear\n",
    "- Observa-se tb que a maioria dos registros estão ao redor da média (22), mas temos tb mtas observações proximas ao 50\n",
    "- o que explica essa taxa de ocupação tão mais alta que a média? Leva essa variavel assim para analise?"
   ]
  },
  {
   "attachments": {
    "image.png": {
     "image/png": "[encoded data removed]"
    }
   },
   "cell_type": "markdown",
   "id": "23a1df42",
   "metadata": {},
   "source": [
    "A normalidade, uma suposição da Regressão Linear, parece direta, mas na verdade NÃO significa que a variável é normalmente distribuída. Na verdade, uma regressão linear pode ser bem-sucedida  com  distribuições  não  normais  dasvariáveis.  **Em  vez disso,  a  suposição  de normalidade  significa  que  os resíduos  resultantes  do  modelo  de  Regressão  Linear  devem  ser normalmente distribuídos.**\n",
    "\n",
    "Para alcançar bons resultados na validação das suposições, dados simétricos são mais fáceis de trabalhar porque o centro de simetria serve como uma caracterização conveniente da localização de uma distribuição.\n",
    "\n",
    "A  transformação  de  log(logaritmo) permite  eliminar  a  assimetria  dos  dados  ou  pelo menos  suavizá-la  e  variáveis  com  transformação  de  log  são  mais  propensas  a  atender  às suposições  da  Regressão  Linear,  particularmente  linearidade,  homocedasticidade  e  resíduo normalmente distribuído. \n",
    "\n",
    "Verificar a assimetria da variável avo e aplicar a transformação de log, portanto, pode ajudar nosso trabalho de construir um modelo mais preciso.\n",
    "\n",
    "Para  que  a  estimativa  da  inclinação  da  regressão  seja  imparcial,  a  associação  entre  as variáveis  dependentes  e  independentes  precisa  ser  linear.  A  variável  distorcida (assimétrica) geralmente tem outliers extremos que podem distorcer a relação linear.\n",
    "\n",
    "Observe abaixo a diferença do cálculo dos resíduos de um modelo de Regressão Linear (que criaremos daqui a pouco). Do lado esquerda a variável original assimétrica e do lado direito a  variável  foi  transformada.  Queremos  o  resultado  do  lado  direito  para  atender  uma  das suposições da Regressão Linear\n",
    "\n",
    "\n",
    "![image.png](attachment:image.png)"
   ]
  },
  {
   "cell_type": "markdown",
   "id": "42b148cd",
   "metadata": {},
   "source": [
    "Como a variável dependente está levemente distorcida, aplicaremos uma transformação logarítmica na coluna **taxa_ocupacao** e verificaremos a distribuição da coluna transformada. Por quê? Para evitar distorção nos dados, algo causado por valores discrepantes. O objetivo com essa transormação é analisar e compreender o padrão nos dados.\n",
    "\n",
    "Vamos verificar a assimetria (skewness) de todas as variáveis."
   ]
  },
  {
   "cell_type": "code",
   "execution_count": null,
   "id": "b81850c5",
   "metadata": {},
   "outputs": [],
   "source": [
    "# Verificando skewness - função do Pandas, que na pratica é um metodo no nosso df dados\n",
    "dados.skew(axis = 0) # axis(eixo) de coluna, zero"
   ]
  },
  {
   "cell_type": "markdown",
   "id": "6a129a45",
   "metadata": {},
   "source": [
    "Um valor de assimetria maior que 1 ou menor que -1 indica uma distribuição altamente distorcida. Um valor entre 0,5 e 1 ou -0,5 e -1 é moderadamente distorcido. Um valor entre -0,5 e 0,5 indica que a distribuição é bastante simétrica.\n",
    "\n",
    "Taxa de ocupação = 1,09 assimetria positiva, a direita, como mostra o grafico!\n",
    "\n",
    "As outras variaveis de entrada tb precisam ser tratadas, mas vamos fazer no decorrer do projeto conforme necessidade"
   ]
  },
  {
   "cell_type": "code",
   "execution_count": null,
   "id": "6c69a071",
   "metadata": {},
   "outputs": [],
   "source": [
    "# Transformação de log \n",
    "# Cria outra variavel, taxa_ocupacao_log, pra não substituir a variavel original (nossa variavel alvo)\n",
    "dados['taxa_ocupacao_log'] = np.log(dados['taxa_ocupacao'])"
   ]
  },
  {
   "cell_type": "code",
   "execution_count": null,
   "id": "232e4516",
   "metadata": {},
   "outputs": [],
   "source": [
    "sns.histplot(data = dados, x = 'taxa_ocupacao_log', kde = True)"
   ]
  },
  {
   "attachments": {
    "image.png": {
     "image/png": "[encoded data removed]"
    }
   },
   "cell_type": "markdown",
   "id": "f85a93eb",
   "metadata": {},
   "source": [
    "Gráfico praticamente simetrico, depois do tratamento.\n",
    "Obs: Qdo usamos log, mudamos a escala da variavel. (dados.head e figura abaixo)\n",
    "![image.png](attachment:image.png)"
   ]
  },
  {
   "cell_type": "code",
   "execution_count": null,
   "id": "6b2c2535",
   "metadata": {},
   "outputs": [],
   "source": [
    "dados.skew(axis = 0)"
   ]
  },
  {
   "cell_type": "code",
   "execution_count": null,
   "id": "b7d6f6d5",
   "metadata": {},
   "outputs": [],
   "source": [
    "dados.head()"
   ]
  },
  {
   "cell_type": "markdown",
   "id": "8432a1eb",
   "metadata": {},
   "source": [
    "Análise:\n",
    "\n",
    "- A distorção foi reduzida. Agora a variável dependente apresenta estar moderadamente distorcida.\n",
    "\n",
    "\n",
    "- A variável log-transformada (**taxa_ocupacao_log**) parece ter uma distribuição quase normal sem distorção e, portanto, podemos prosseguir."
   ]
  },
  {
   "cell_type": "markdown",
   "id": "fe0da0f1",
   "metadata": {},
   "source": [
    "Antes de criar o modelo de regressão linear, é importante verificar a relação bivariada entre as variáveis. Vamos verificar o mesmo usando o mapa de calor e o gráfico de dispersão."
   ]
  },
  {
   "cell_type": "markdown",
   "id": "baa3b959",
   "metadata": {},
   "source": [
    "<font color= darkred > <b> Analise Bivariada </b> </font>"
   ]
  },
  {
   "cell_type": "markdown",
   "id": "701a246f",
   "metadata": {},
   "source": [
    "Vamos verificar a correlação usando um mapa de calor. A correlação é um coeficiente da relação das variáveis que pode assumir valores de -1 a +1, sendo:\n",
    "\n",
    "- O valor de -1 indica forte correlação negativa.\n",
    "- O valor de +1 indica forte correlação positiva.\n",
    "- O valor de zero indica que não há correlação.\n",
    "\n",
    "**Notas:**\n",
    "\n",
    "- Queremos uma alta correlação das variáveis preditoras com a variável alvo e uma baixa correlação entre as variáveis preditoras para ter um modelos equilibrado, generalizavel. \n",
    "- Alta correlação entre as variáveis preditoras (positiva ou negativa) indica **problema de multicolinearidade e tem que ser resolvido.**"
   ]
  },
  {
   "cell_type": "code",
   "execution_count": null,
   "id": "df7ae86e",
   "metadata": {},
   "outputs": [],
   "source": [
    "# Matriz de correlação - Com 1 linha de codigo :)))\n",
    "dados.corr()"
   ]
  },
  {
   "cell_type": "code",
   "execution_count": null,
   "id": "5085f448",
   "metadata": {},
   "outputs": [],
   "source": [
    "# Tamanho da figura\n",
    "plt.figure(figsize = (9,5))\n",
    "\n",
    "# Mapa de calor\n",
    "# Estamos realçando os valores de correlação entre 0.59 e 0.99, positivo ou negativo.\n",
    "# annotation = True é o numero dentro de cada celula. Otimo pra visualização!\n",
    "# colormap cmap com valor minimo de 0,60 e maximo 0,99 para as tonalidades de preenchimento - marca de corte\n",
    "sns.heatmap(dados.corr(), annot = True, fmt = '.2f', cmap = 'Reds', vmax = .99, vmin = -0.60)\n",
    "plt.show()"
   ]
  },
  {
   "cell_type": "markdown",
   "id": "f88d17fb",
   "metadata": {},
   "source": [
    "Análise:\n",
    "\n",
    "- Vemos uma correlação significativa entre as variáveis **taxa_poluicao** e **proporcao_empresas**.\n",
    "\n",
    "\n",
    "- A variável **taxa_poluicao** também apresenta um alto valor de correlação positiva com a **idade_media_residencias**, bem como um valor significativamente correlacionado negativamente com a **distancia_centro** e **idade_media_residencias**(qto maior a distancia do centro, menor poluição, qdo maior idade media da residencia, menor distancia do centro)\n",
    "\n",
    "\n",
    "- A variável **proporcao_empresas** tem um alto valor de correlação com **imposto_residencial**.\n",
    "\n",
    "\n",
    "- A **taxa_ocupacao** tem um alto valor de correlação com **numero_medio_quartos_por_residencia**, e também significativamente correlacionado negativamente com **taxa_desabrigados**.\n",
    "\n",
    "\n",
    "- **taxa_ocupacao e taxa_ocupacao_log** são as mesmas variaveis de fato, apenas estão em escalas diferentes por isso a correlaçao tão alta.\n",
    "\n",
    "- Analise todas as correlações entre 0.59 e 0.99."
   ]
  },
  {
   "cell_type": "markdown",
   "id": "309bf895",
   "metadata": {},
   "source": [
    "#### Vamos analisar mais de perto as variáveis com maior correlação."
   ]
  },
  {
   "cell_type": "code",
   "execution_count": null,
   "id": "a7f5048f",
   "metadata": {},
   "outputs": [],
   "source": [
    "# Scatter Plot 1 - regplot é m plot de regressão, cria uma regressao linear simples\n",
    "plt.figure(figsize = (5, 5))\n",
    "sns.regplot(x = 'proporcao_empresas', y = 'taxa_poluicao', data = dados, color = 'green') \n",
    "plt.show()"
   ]
  },
  {
   "cell_type": "code",
   "execution_count": null,
   "id": "afb77f3a",
   "metadata": {},
   "outputs": [],
   "source": [
    "# Coeficiente de Correlação - usou coeficiente de pearson\n",
    "# Que traz outras informações, mas so queremos o so a informação de indice 0, 1ª informação Ver!\n",
    "print('A Correlação entre as variáveis é:', pearsonr(dados['proporcao_empresas'], \n",
    "                                                     dados['taxa_poluicao'])[0])"
   ]
  },
  {
   "cell_type": "markdown",
   "id": "3f96043e",
   "metadata": {},
   "source": [
    "Análise:\n",
    "\n",
    "- **Correlação Positiva**: A taxa de poluição aumenta em bairros com maior proporção de empresas."
   ]
  },
  {
   "cell_type": "code",
   "execution_count": null,
   "id": "9719a21c",
   "metadata": {},
   "outputs": [],
   "source": [
    "# Scatter Plot 2\n",
    "plt.figure(figsize = (7, 7))\n",
    "sns.regplot(x = 'idade_media_residencias', y = 'taxa_poluicao', data = dados, color = 'black') \n",
    "plt.show()"
   ]
  },
  {
   "cell_type": "code",
   "execution_count": null,
   "id": "7f657d20",
   "metadata": {},
   "outputs": [],
   "source": [
    "# Coeficiente de Correlação\n",
    "print('A Correlação entre as variáveis é:', pearsonr(dados['idade_media_residencias'], \n",
    "                                                     dados['taxa_poluicao'])[0])"
   ]
  },
  {
   "cell_type": "markdown",
   "id": "4503d73a",
   "metadata": {},
   "source": [
    "Análise:\n",
    "\n",
    "- **Correlação Positiva**: A taxa de poluição aumenta em bairros com residências de maior idade (construídas há mais tempo)."
   ]
  },
  {
   "cell_type": "code",
   "execution_count": null,
   "id": "1ff693fd",
   "metadata": {},
   "outputs": [],
   "source": [
    "# Scatter Plot 3 - Correlação negativa, reta negativamente inclinada! \n",
    "plt.figure(figsize = (7, 7))\n",
    "sns.regplot(x = 'distancia_centro', y = 'taxa_poluicao', data = dados, color = 'brown') \n",
    "plt.show()"
   ]
  },
  {
   "cell_type": "code",
   "execution_count": null,
   "id": "ffd23424",
   "metadata": {},
   "outputs": [],
   "source": [
    "# Coeficiente de Correlação\n",
    "print('A Correlação entre as variáveis é:', pearsonr(dados['distancia_centro'], \n",
    "                                                     dados['taxa_poluicao'])[0])"
   ]
  },
  {
   "cell_type": "markdown",
   "id": "cf4aa3cb",
   "metadata": {},
   "source": [
    "Análise:\n",
    "\n",
    "- **Correlação Negativa**: A taxa de poluição diminui em bairros à medida que aumenta a distância para o centro da cidade."
   ]
  },
  {
   "cell_type": "code",
   "execution_count": null,
   "id": "1340025d",
   "metadata": {},
   "outputs": [],
   "source": [
    "# Scatter Plot 4\n",
    "plt.figure(figsize = (7, 7))\n",
    "sns.regplot(x = 'proporcao_empresas', y = 'imposto_residencial', data = dados, color = 'blue') \n",
    "plt.show()"
   ]
  },
  {
   "cell_type": "code",
   "execution_count": null,
   "id": "654c17cd",
   "metadata": {},
   "outputs": [],
   "source": [
    "# Coeficiente de Correlação\n",
    "print('A Correlação entre as variáveis é:', pearsonr(dados['proporcao_empresas'], \n",
    "                                                     dados['imposto_residencial'])[0])"
   ]
  },
  {
   "cell_type": "markdown",
   "id": "afa7d58b",
   "metadata": {},
   "source": [
    "Análise:\n",
    "\n",
    "- **Correlação Positiva**: O imposto aumenta com um aumento na proporção de empresas por bairro. Isso pode ser devido ao fato das variáveis estarem relacionadas com uma terceira variável. Não vemos uma relação direta, pode ser por um 3º fator"
   ]
  },
  {
   "cell_type": "code",
   "execution_count": null,
   "id": "d0cf5dae",
   "metadata": {},
   "outputs": [],
   "source": [
    "# Scatter Plot 5\n",
    "plt.figure(figsize = (7, 7))\n",
    "sns.regplot(x = 'idade_media_residencias', y = 'distancia_centro', data = dados, color = 'black')\n",
    "plt.show()"
   ]
  },
  {
   "cell_type": "code",
   "execution_count": null,
   "id": "3a119d78",
   "metadata": {},
   "outputs": [],
   "source": [
    "# Coeficiente de Correlação\n",
    "print('A Correlação entre as variáveis é:', pearsonr(dados['idade_media_residencias'], \n",
    "                                                     dados['distancia_centro'])[0])"
   ]
  },
  {
   "cell_type": "markdown",
   "id": "22c86afa",
   "metadata": {},
   "source": [
    "Análise:\n",
    "\n",
    "- **Correlação Negativa**: À medida que aumenta a distância do cento, diminui a idade média das residências."
   ]
  },
  {
   "cell_type": "code",
   "execution_count": null,
   "id": "d66970d5",
   "metadata": {},
   "outputs": [],
   "source": [
    "# Scatter Plot 6\n",
    "plt.figure(figsize = (7, 7))\n",
    "sns.regplot(x = 'index_acessibilidade', y = 'imposto_residencial', data = dados, color = 'magenta')\n",
    "plt.show()"
   ]
  },
  {
   "cell_type": "code",
   "execution_count": null,
   "id": "20f17cab",
   "metadata": {},
   "outputs": [],
   "source": [
    "# Coeficiente de Correlação\n",
    "print('A Correlação entre as variáveis é:', pearsonr(dados['index_acessibilidade'], \n",
    "                                                     dados['imposto_residencial'])[0])"
   ]
  },
  {
   "cell_type": "markdown",
   "id": "c5a58b21",
   "metadata": {},
   "source": [
    "Análise:\n",
    "\n",
    "- **Correlação Positiva**: A correlação entre as variáveis é muito alta, mas nenhuma tendência é visível entre as duas variáveis. Isso pode ser devido a outliers. Mas não há um padrao claro entre indice de acessibilidade e imposto, pode ter sido causado por alguma outra força."
   ]
  },
  {
   "cell_type": "markdown",
   "id": "bd734d6a",
   "metadata": {},
   "source": [
    "Vamos realizar um trabalho de tratamento de outliers nas variáveis do gráfico anterior. E então vamos verificar a correlação depois de remover os valores discrepantes. Quando plotamos o histograma na análise univariada observamos que a maioria dos valores está abaixo de 600. Vamos criar o plot novamente."
   ]
  },
  {
   "cell_type": "code",
   "execution_count": null,
   "id": "e08fc99a",
   "metadata": {},
   "outputs": [],
   "source": [
    "# Plot do histograma\n",
    "plt.figure(figsize = (7, 4))\n",
    "sns.histplot(data = dados, x = dados.imposto_residencial, kde = True, color = 'green')\n",
    "plt.show()"
   ]
  },
  {
   "cell_type": "code",
   "execution_count": null,
   "id": "74d846c7",
   "metadata": {},
   "outputs": [],
   "source": [
    "# Removendo outliers (mantemos apenas o que for menor que 600)\n",
    "# Salvando em df1 para não alterar o df original, estamos pesquisando ainda\n",
    "df1 = dados[dados['imposto_residencial'] < 600]"
   ]
  },
  {
   "cell_type": "code",
   "execution_count": null,
   "id": "0effe8d9",
   "metadata": {},
   "outputs": [],
   "source": [
    "# Coeficiente de Correlação (observe que não alteramos o dataset original e por isso estamos usando df1)\n",
    "# Diminuição significativa do coeficiente de correlação, \n",
    "# pois tiramos o fator (outliers) que estava influenciando o calculo matematico\n",
    "print('A Correlação entre as variáveis é:', pearsonr(df1['imposto_residencial'], \n",
    "                                                     df1['index_acessibilidade'])[0])"
   ]
  },
  {
   "cell_type": "code",
   "execution_count": null,
   "id": "82ab0359",
   "metadata": {},
   "outputs": [],
   "source": [
    "# Scatter Plot 6\n",
    "plt.figure(figsize = (7, 7))\n",
    "sns.regplot(x = 'index_acessibilidade', y = 'imposto_residencial', data = df1, color = 'magenta')\n",
    "plt.show()"
   ]
  },
  {
   "cell_type": "code",
   "execution_count": null,
   "id": "dfc28328",
   "metadata": {},
   "outputs": [],
   "source": [
    "# Coeficiente de Correlação\n",
    "print('A Correlação entre as variáveis é:', pearsonr(df1['imposto_residencial'], \n",
    "                                                     df1['index_acessibilidade'])[0])"
   ]
  },
  {
   "cell_type": "markdown",
   "id": "128fc126",
   "metadata": {},
   "source": [
    "Análise:\n",
    "\n",
    "- **Correlação Positiva**.\n",
    "\n",
    "- A correlação entre as duas variáveis era de 0.91 antes de remover os outliers. Caiu para 0.24 após a remoção.\n",
    "\n",
    "- Portanto, a alta correlação entre as variáveis se deve aos outliers. O valor do imposto para algumas propriedades pode ser maior devido a algum outro motivo. \n",
    "- Não parece haver relação entre as duas variáveis diretamente."
   ]
  },
  {
   "cell_type": "code",
   "execution_count": null,
   "id": "dd1904c8",
   "metadata": {},
   "outputs": [],
   "source": [
    "# Scatter Plot 7\n",
    "plt.figure(figsize = (7, 7))\n",
    "sns.regplot(x = 'numero_medio_quartos_por_residencia', y = 'taxa_ocupacao', data = dados, color = 'blue')\n",
    "plt.show()"
   ]
  },
  {
   "cell_type": "code",
   "execution_count": null,
   "id": "2b3d3bf3",
   "metadata": {},
   "outputs": [],
   "source": [
    "# Coeficiente de Correlação\n",
    "print('A Correlação entre as variábeis é:', pearsonr(dados['numero_medio_quartos_por_residencia'], \n",
    "                                                     dados['taxa_ocupacao'])[0])"
   ]
  },
  {
   "cell_type": "markdown",
   "id": "22d5abd6",
   "metadata": {},
   "source": [
    "Análise:\n",
    "\n",
    "- **Correlação Positiva**.\n",
    "\n",
    "- A taxa de ocupação das casas parece aumentar à medida que aumenta o número médio de quartos na residência. Isso é esperado, pois a taxa de ocupação pode ser mais alta se houver mais quartos.\n",
    "\n",
    "- Existem alguns valores discrepantes em uma linha horizontal no topo do gráfico. Parece indicar um limite nos dados qdo foram coletados."
   ]
  },
  {
   "cell_type": "code",
   "execution_count": null,
   "id": "e5ab3c8f",
   "metadata": {},
   "outputs": [],
   "source": [
    "# Scatter Plot 8\n",
    "plt.figure(figsize = (6, 6))\n",
    "sns.regplot(x = 'taxa_desabrigados', y = 'taxa_ocupacao', data = dados, color = 'magenta')\n",
    "plt.show()"
   ]
  },
  {
   "cell_type": "code",
   "execution_count": null,
   "id": "950ec36b",
   "metadata": {},
   "outputs": [],
   "source": [
    "# Coeficiente de Correlação\n",
    "print('A Correlação entre as variábeis é:', pearsonr(dados['taxa_desabrigados'], \n",
    "                                                     dados['taxa_ocupacao'])[0])"
   ]
  },
  {
   "cell_type": "markdown",
   "id": "6fbd938f",
   "metadata": {},
   "source": [
    "Análise:\n",
    "\n",
    "- **Correlação Negativa**. \n",
    "\n",
    "- Bairros com maior número de desabrigados (moradores de rua) apresentam uma taxa menor de ocupação das residências.\n",
    "\n",
    "- Existem poucos outliers e os dados parecem estar limitados a 50."
   ]
  },
  {
   "cell_type": "markdown",
   "id": "7b2c5608",
   "metadata": {},
   "source": [
    "#### Conclusão da Análise Exploratória\n",
    "\n",
    "##### Existem relações significativas entre algumas variáveis independentes, o que não é desejável para um modelo de regressão linear e decisões terão que ser tomadas. E tomaremos as decisões com base em análise dos dados. "
   ]
  },
  {
   "cell_type": "markdown",
   "id": "df2975f9",
   "metadata": {},
   "source": [
    "<font color= darkred > <b> Preparação dos Dados </b> </font>\n",
    "\n",
    "Obs: Vamos dividir o conjunto de dados em variáveis X e Y e então dividir os dados em treino e teste com proporção 80/20."
   ]
  },
  {
   "cell_type": "code",
   "execution_count": null,
   "id": "21182057",
   "metadata": {},
   "outputs": [],
   "source": [
    "# Separando as variáveis\n",
    "Y = dados['taxa_ocupacao_log'] # variavel alvo logoritimizada\n",
    "X = dados.drop(columns = {'taxa_ocupacao', 'taxa_ocupacao_log'}) #remove a original em escala diferente"
   ]
  },
  {
   "cell_type": "code",
   "execution_count": null,
   "id": "944cb34b",
   "metadata": {},
   "outputs": [],
   "source": [
    "# Divide os dados produzindo amostras para treino e teste.\n",
    "X_treino, X_teste, y_treino, y_teste = train_test_split(X, Y, test_size = 0.20 , random_state = 1)"
   ]
  },
  {
   "cell_type": "code",
   "execution_count": null,
   "id": "f64a5ee9",
   "metadata": {},
   "outputs": [],
   "source": [
    "# 400 amostras-Linhas em 13 variaveis-colunas\n",
    "X_treino.shape"
   ]
  },
  {
   "cell_type": "code",
   "execution_count": null,
   "id": "05ca799e",
   "metadata": {},
   "outputs": [],
   "source": [
    "X_teste.shape"
   ]
  },
  {
   "cell_type": "code",
   "execution_count": null,
   "id": "b5eca227",
   "metadata": {},
   "outputs": [],
   "source": [
    "#unica variavel 100 linhas\n",
    "y_treino.shape"
   ]
  },
  {
   "cell_type": "code",
   "execution_count": null,
   "id": "1163b20e",
   "metadata": {},
   "outputs": [],
   "source": [
    "y_teste.shape"
   ]
  },
  {
   "cell_type": "markdown",
   "id": "b9a0d173",
   "metadata": {},
   "source": [
    "<font color= darkred > <b>Modelagem Estatistica - Estudando os relacionamentos entre variaveis. </b> </font> \n",
    "\n",
    "<font color= darkgreen > <b>  1ª Versão do Modelo - Com dados brutos </b> </font>\n",
    "\n",
    "Aqui usaremos os dados de entrada no seu estado bruto original. \n",
    "É exigencia dos modelos de RL que os dados estejam padronizados, mas vamos começar essa versão com formato bruto para comparar resultados da padronização\n"
   ]
  },
  {
   "cell_type": "code",
   "execution_count": null,
   "id": "81d2bb34",
   "metadata": {},
   "outputs": [],
   "source": [
    "# Precisa formatar os dados para o framework que estamos usando, que é o stats models (sm)\n",
    "# Adiciona a constante (intercepto)\n",
    "# Isso é requerido pelo Statsmodels\n",
    "X_treino_const = sm.add_constant(X_treino)"
   ]
  },
  {
   "cell_type": "code",
   "execution_count": null,
   "id": "a1454355",
   "metadata": {},
   "outputs": [],
   "source": [
    "X_treino_const.shape"
   ]
  },
  {
   "cell_type": "code",
   "execution_count": null,
   "id": "28b6340d",
   "metadata": {},
   "outputs": [],
   "source": [
    "type(X_treino_const)"
   ]
  },
  {
   "cell_type": "code",
   "execution_count": null,
   "id": "95734a80",
   "metadata": {},
   "outputs": [],
   "source": [
    "# Cria o modelo - no stats models usa o metodo OLS, precisa adicionar uma cte para os dados de entrada\n",
    "# a constante é o intercepto\n",
    "# obs - no sklearn não precisa cte, mas pra modelagem estatistica não é tão bom, otimo para modelagem preditiva ML\n",
    "modelo_v1 = sm.OLS(y_treino, X_treino_const).fit()"
   ]
  },
  {
   "cell_type": "markdown",
   "id": "2939b5a8",
   "metadata": {},
   "source": [
    " <font color= darkred > <b>  Explicação dos Coeficientes produzidos pela tabela de Regressão OLS </b> </font>\n",
    "\n",
    "Os  coeficientes  do  modelo  são  mostrados  na  coluna  \"coef\"  da  tabela  resumo.  Esses coeficientes representam a mudança na variável dependente (y) para cada mudança de unidade na variável independente, mantendo todas as outras variáveis constantes.\n",
    "\n",
    "Os erros padrão dos coeficientes são mostrados na coluna \"std err\" e podem ser usados paracalcular intervalos de confiança para os coeficientes.\n",
    "\n",
    "Os valores-t e os valores-p nas colunas \"t\" e \"P>|t|\", respectivamente, podem ser usadospara testar a significância estatística dos coeficientes. Variáveis com valor-p abaixo de 0.05 não são estatisticamente significantes para prever a variável alvo e podem ser removidas do conjunto de dados.\n",
    "\n",
    "O valor de R ao quadrado na linha \"R-squared\" da tabela de resumo indica a proporção da variância na variável dependente (variável alvo) que é explicada pelo modelo. Quanto maior o R2, melhor. O R2é chamado de coeficiente de determinação."
   ]
  },
  {
   "cell_type": "markdown",
   "id": "ce90287c",
   "metadata": {},
   "source": [
    "<font color= darkgreen > <b> O Akaike Information Criterion (AIC) - É uma medida da qualidade do ajuste do modelo</b> </font>\n",
    "\n",
    "É definido como: **AIC = 2 * (número de parâmetros) -2 * (log-verossimilhança máxima)**\n",
    "\n",
    "O AIC é uma medida da qualidade relativa de um modelo estatístico, com um AIC mais baixo indicando um melhor ajuste. O AIC leva em consideração a complexidade do modelo e a quantidade de dados usados para ajustá-lo e, portanto, fornece um equilíbrio entre o ajuste do modelo e sua simplicidade.\n",
    "\n",
    "Na tabela de resumo, o AIC é mostrado na linha \"AIC\". Ao comparar diferentes modelos, você pode usar o AIC para selecionar o modelo que oferece o melhor equilíbrio entre ajuste e simplicidade. No entanto, é importante observar que o AIC deve ser usado como uma medida relativa,  em  vez  de  uma  medida  absoluta,  e  deve  ser  interpretado  no  contexto  dos  dados específicos e da questão de pesquisa que está sendo analisada."
   ]
  },
  {
   "cell_type": "markdown",
   "id": "aa484bc7",
   "metadata": {},
   "source": [
    "<font color= darkgreen > <b> O Bayesian Information Criterion (BIC) é uma medida da qualidade do ajuste do modelo</b> </font>\n",
    "\n",
    "É definido como: **BIC = log(n) * (número de parâmetros) -2 * (log-verossimilhança máxima)**\n",
    "\n",
    "onde n é o número de pontos de dados usados para ajustar o modelo.\n",
    "\n",
    "Como o Akaike Information Criterion (AIC), o BIC é uma medida da qualidade relativa de um modelo estatístico, com um BIC mais baixo indicandoum melhor ajuste. O BIC leva em consideração  a  complexidade  do  modelo  e  a  quantidade  de  dados  usados  para  ajustá-lo  e, portanto, fornece um equilíbrio entre o ajuste do modelo e sua simplicidade.\n",
    "\n",
    "Na tabela de resumo, o BIC é mostrado na linha \"BIC\". Ao comparar modelos diferentes, você pode usar o BIC para selecionar o modelo que oferece o melhor equilíbrio entre ajuste e simplicidade. No entanto, é importante observar que o BIC deve ser usado como uma medida relativa,  em  vez  de  uma  medida  absoluta,  e  deve  ser  interpretado  no  contexto  dos  dados específicos e da questão de pesquisa que está sendo analisada."
   ]
  },
  {
   "cell_type": "markdown",
   "id": "24e3cd16",
   "metadata": {},
   "source": [
    "<font color= darkgreen > <b> A Estatística F é uma medida da significância geral do modelo</b> </font>\n",
    "\n",
    "É calculado como a razão entre a variação média quadrática explicada e o erro quadrático médio:\n",
    "\n",
    "**Estatística F= (variação média quadrática explicada) / (erro médio quadrático)**\n",
    "\n",
    "A variação média quadrática explicada é a variância da variável dependente (y) explicada pelo modelo,e o erro médio quadrático é a variância dos resíduos (erros) do modelo.\n",
    "\n",
    "A Estatística F é usada para testar a hipótese nula de que todos os coeficientes do modelo são iguais a zero (ou seja, que nenhuma das variáveis independentes está relacionada à variável dependente). \n",
    "\n",
    "Um **grande valor da Estatística F** indica que o modelo é **significativamente melhor do  que  o  modelo  nulo**  (ou  seja,  que  pelo  menos  uma  das  variáveis independentes  está relacionada à variável dependente), enquanto **um valor baixo da Estatística F** indica que o modelo **não é significativamente melhor do que o modelo nulo.**\n",
    "\n",
    "Na tabela de resumo, a Estatística F é mostrada na linha \"F-statistic\", juntamente com o valor-p correspondente na linha \"Prob (F-statistic)\". O valor-p é usado para testar a significância estatística da Estatística F. \n",
    "\n",
    "**Se o valor-p for menor que o nível de significância (geralmente 0,05), a hipótese nula pode ser rejeitada e o modelo é considerado significativamente melhor do que um modelo nulo.**"
   ]
  },
  {
   "cell_type": "markdown",
   "id": "725d4fa5",
   "metadata": {},
   "source": [
    "<font color= darkgreen > <b> Interpretação dos GL dos resíduos</b> </font>\n",
    "\n",
    "O valor  \"Df  Residuals\"  representa  os  graus  de  liberdade  dos  resíduos.  \n",
    "\n",
    "Os  graus  de liberdade de um modelo estatístico é o número de observações independentes no modelo, que é  igual  ao  número  de  pontos  de  dados  menos  o  número  de  parâmetros  que  estão  sendo estimados.\n",
    "\n",
    "Para um modelo de RL, os GL dos resíduos são iguais ao número de pontos de dados menos o número de coeficientes sendo estimados (incluindo a interceptação). \n",
    "\n",
    "Os graus de liberdade dos resíduos podem ser usados para calcular a variância dos resíduos e os erros padrão dos coeficientes.\n",
    "\n",
    "Na tabela de resumo, o valor de graus de liberdade dos resíduosé mostrado na linha\"Df Residuals\". É importante verificar o valor \"Df Residuals\" para garantir que haja graus de liberdade suficientes para estimar o modelo com precisão. \n",
    "\n",
    "Se o valor \"Df Residuals\" for muito pequeno, pode indicar que o modelo está superajustando os dados ou que não há dados suficientes para estimar o modelo com precisão."
   ]
  },
  {
   "cell_type": "markdown",
   "id": "ef6dae0d",
   "metadata": {},
   "source": [
    "<font color= darkgreen > <b> Interpretação do tipo de Covariância</b> </font>\n",
    "\n",
    "O valor \"Tipo de covariância\" indica o método usado para estimar a matriz de covariância dos parâmetros do modelo. \n",
    "\n",
    "A matriz de covariância é uma matriz das variâncias e covariâncias dos parâmetros do modelo e é usada para calcular os erros padrão e os intervalos de confiança dos parâmetros.\n",
    "\n",
    "Existem  vários  métodos  diferentes  que  podem  ser  usados  para  estimar  a  matriz  de covariância, incluindo o método \"não robusto\", o método \"HC0\" e o método \"HC1\". \n",
    "\n",
    "**O método não robusto\" assume que os erros são normalmente distribuídos e homocedásticos (ou seja, a variância dos erros é constante em todas as variáveis independentes)**. \n",
    "\n",
    "Os métodos **\"HC0\" e \"HC1\" são versões não robustas da estimação da matriz de covariâncias** que não assumem normalidade ou homocedasticidade. Na tabela de resumo, o valor \"Tipo de covariância\" é mostrado na linha \"Covariance Type\". \n",
    "\n",
    "É importante escolher um método apropriado de estimativa de matrizde covariância com base nas suposições do modelo e nas características dos dados. Se as suposições do modelo forem violadas, então um método robusto de estimativa de matriz de covariância pode ser mais apropriado"
   ]
  },
  {
   "cell_type": "markdown",
   "id": "33ecf91a",
   "metadata": {},
   "source": [
    "<font color= darkgreen > <b> Interpretação a Estatística Omnibus</b> </font>\n",
    "\n",
    "O valor  Omnibus  é  uma  estatística  de  teste  que  **mede  a  assimetria  e  a  curtose  dos resíduos.** \n",
    "\n",
    "A assimetria é uma medida da assimetria da distribuição dos resíduos e a curtose é uma medida do pico da distribuição dos resíduos.\n",
    "\n",
    "A estatística de teste Omnibus é definida como: **Omnibus = sqrt((Curtose * (n -1)) / (n -k -1))** onde n é o número de pontos de dados ek é o número de parâmetros que estão sendo estimados (incluindo a interceptação).\n",
    "\n",
    "A estatística de teste Omnibus pode ser usada para testar a hipótese nula de que os resíduos são normalmente distribuídos. \n",
    "\n",
    "Se a estatística do teste Omnibus **for grande, isso indica que os resíduos são significativamente diferentes de uma distribuição normal** e isso pode indicar que as suposições do modelo de regressão linear não são atendidas.\n",
    "\n",
    "Na tabela de resumo, o valor Omnibus é mostrado na linha \"Omnibus\", juntamente com o valor-p correspondente na linha \"Prob(Omnibus)\". \n",
    "\n",
    "O valor-p é usado para testar a significância estatística da estatística de teste Omnibus. Se o valor-p for menor que o nível de significância (geralmente  0,05),  a  hipótese  nula  pode  ser  rejeitada  e  os  resíduos  são  considerados significativamente diferentes de uma distribuição normal."
   ]
  },
  {
   "cell_type": "markdown",
   "id": "3bb9e6b3",
   "metadata": {},
   "source": [
    "<font color= darkgreen > <b> Interpretação a Estatística Durbin-Watson</b> </font>\n",
    "\n",
    "A estatística  Durbin-Watson  é  uma  **medida  da  autocorrelação  dos  resíduos.** \n",
    "\n",
    "A autocorrelação é a correlação entre os resíduos em diferentes defasagens (intervalos de tempo).\n",
    "\n",
    "A estatística Durbin-Watson é definida como: **Durbin-Watson = (soma dos resíduos quadrados com lag 1) / (soma dos resíduos quadrados)** \n",
    "\n",
    "**A  estatística  Durbin-Watson  varia  de  0  a  4,  com  um  valor  de  2  indicando  nenhuma autocorrelação. Um valor menor que 2 indica autocorrelação positiva (ou seja, os resíduos em defasagens consecutivas são correlacionados positivamente), enquanto um valor maior que 2 indica  autocorrelação  negativa  (ou  seja,  os  resíduos  em  defasagens  consecutivas  são correlacionados negativamente).**\n",
    "\n",
    "A  estatística  de  Durbin-Watson  pode  ser  utilizada  para  detectar  a  presença  de autocorrelação nos resíduos, o que pode indicar que o modelo de Regressão Linear está mal especificado ou que os dados não são independentes. \n",
    "\n",
    "Se a estatística de Durbin-Watson for significativamente diferente de 2, pode ser necessário ajustar o modelo ou transformar os dados para resolver a autocorrelação.Na tabela de resumo, a estatística Durbin-Watson é mostrada na linha \"Durbin-Watson\". É importante verificar a estatística de Durbin-Watson para garantir que não haja autocorrelação nos resíduos"
   ]
  },
  {
   "cell_type": "markdown",
   "id": "c60d3a1a",
   "metadata": {},
   "source": [
    "<font color= darkgreen > <b> Interpretação a Estatística Jarque-Bera (JB)</b> </font>\n",
    "\n",
    "A estatística Jarque-Bera (JB) é uma **medida da assimetria e da curtose dos resíduos.** \n",
    "\n",
    "A assimetria é uma medida da assimetria da distribuição dos resíduos e a curtose é uma medida do pico da distribuição dos resíduos.\n",
    "\n",
    "A estatística Jarque-Bera é definida como:**JB = (n/6) * (distorção^2 + (curtose -3)^2/4)** onde n é o número de pontos de dados e assimetria e curtose são a assimetria e curtose da amostra dos resíduos, respectivamente.Aestatística de Jarque-Bera pode ser usada para testar a hipótese nula de que os resíduos são normalmente distribuídos. \n",
    "\n",
    "Se a estatística de Jarque-Bera for grande, indica que os resíduos são  significativamente  diferentes  de  uma  distribuição  normal,  e  isso pode  indicar  que  os pressupostos do modelo de Regressão Linear não são atendidos.\n",
    "\n",
    "Na tabela resumo, a estatística Jarque-Bera é mostrada na linha \"Jarque-Bera (JB)\", junto com o valor-p correspondente na linha \"Prob(JB)\". O valor-p é usado para testar a significância estatística  da  estatística  de  Jarque-Bera.  \n",
    "\n",
    "Se  o  valor-p  for  menor  que  o  nível  de  significância (geralmente  0,05),  a  hipótese  nula  pode  ser  rejeitada  e  os  resíduos  são  considerados significativamente diferentes de uma distribuição normal.\n"
   ]
  },
  {
   "cell_type": "code",
   "execution_count": null,
   "id": "aaeacbc3",
   "metadata": {},
   "outputs": [],
   "source": [
    "# Sumário do modelo\n",
    "modelo_v1.summary()"
   ]
  },
  {
   "cell_type": "code",
   "execution_count": null,
   "id": "69002646",
   "metadata": {},
   "outputs": [],
   "source": [
    "# Coeficientes aprendidos pelo modelo\n",
    "modelo_v1.params"
   ]
  },
  {
   "cell_type": "markdown",
   "id": "08c36b1a",
   "metadata": {},
   "source": [
    "Análise:\n",
    "\n",
    "- O modelo apresenta boa performance com valor do coeficiente R2 acima de 0.8. Mas observe a nota 2 ao final do sumário do modelo.\n",
    "\n",
    "- Mas na nota 2 da tabela OLS: \n",
    "- [2] The condition number is large, 1.51e+04. \n",
    "- This might indicate that there are strong multicollinearity or other numerical problems."
   ]
  },
  {
   "cell_type": "markdown",
   "id": "b2ff8732",
   "metadata": {},
   "source": [
    "<font color= darkred > <b> Verificando Multicolinearidade com VIF</b> </font>"
   ]
  },
  {
   "cell_type": "markdown",
   "id": "aa246e37",
   "metadata": {},
   "source": [
    "<font color= darkgreen > <b> Fator de Inflação de Variância (VIF) </b> </font>\n",
    "\n",
    "Na RegressãoLinear, o fator de inflação de variância (VIF) é uma medida da quantidade de  multicolinearidade  em  seu  modelo. \n",
    "\n",
    "A  multicolinearidade  ocorre  quando  duas  ou  mais variáveis preditoras são altamente correlacionadas, o que pode causar resultados instáveis e inconsistentes nomodelo.\n",
    "\n",
    "O VIF é calculado para cada variável preditora e é definido como a razão entre a variância do coeficiente de regressão para aquela variável e a variância do coeficiente de regressão se aquela  variável  fosse  ajustada  sozinha.  Um  alto  valor  de  VIF indica  um  alto  grau  de multicolinearidade, e valores maiores que 10 são frequentemente considerados indicativos de um nível problemático de multicolinearidade.\n",
    "\n",
    "Para calcular o VIF para uma variável preditora, primeiro ajuste um modelo de regressão linear múltipla com todas as variáveis preditoras em seu modelo. Em seguida, você ajusta um segundo modelo de regressão linear apenas com essa variável de previsão e todas as outras variáveis de previsão. \n",
    "\n",
    "O VIF é então calculado como o quadrado da correlação entre a variável preditora e as outras variáveis preditoras no modelo.Você pode usar o VIF para identificar quais variáveis preditoras em seu modelo podem estar  contribuindo  para  a  multicolinearidade  e,  em  seguida,  tentar  resolver  esse  problema removendo  as variáveis  altamente  correlacionadas  ou  usando  técnicas  como  análise  de componentes principais para reduzir a dimensionalidade de seu modelo."
   ]
  },
  {
   "cell_type": "markdown",
   "id": "96d5c80b",
   "metadata": {},
   "source": [
    "##### Vamos verificar a multicolinearidade no conjunto de dados de treino. Automatizando\n",
    "\n",
    "Utilizaremos o Variance Inflation Factor (VIF), para verificar se há multicolinearidade nos dados.\n",
    "\n",
    "Variáveis com score (pontuação) VIF > 5 serão descartados/tratados até que todos os recursos tenham pontuação VIF < 5. Sendo conservadores.\n"
   ]
  },
  {
   "cell_type": "code",
   "execution_count": null,
   "id": "9c359f23",
   "metadata": {},
   "outputs": [],
   "source": [
    "# Função para checar o VIF de todas as variáveis - Só para dados de Treino\n",
    "def verifica_vif(train):\n",
    "    \n",
    "    # Cria o dataframe\n",
    "    vif = pd.DataFrame()\n",
    "    \n",
    "    # Alimenta cada coluna\n",
    "    vif[\"feature\"] = train.columns\n",
    "\n",
    "    # Calcula VIF para cada variável - list Comprehension - loop\n",
    "    # PAra cada valor de i, dentro do total de colunas, extrai os valores atraves da fç VIF\n",
    "    vif[\"VIF\"] = [variance_inflation_factor(train.values, i) for i in range(len(train.columns))]\n",
    "    \n",
    "    return vif"
   ]
  },
  {
   "cell_type": "code",
   "execution_count": null,
   "id": "2eb0bbd3",
   "metadata": {},
   "outputs": [],
   "source": [
    "type(X_treino)"
   ]
  },
  {
   "cell_type": "code",
   "execution_count": null,
   "id": "d1028e5c",
   "metadata": {},
   "outputs": [],
   "source": [
    "# Estamos verificando o VIF sem a constante requerida pelo Statsmodels\n",
    "print(verifica_vif(X_treino))"
   ]
  },
  {
   "cell_type": "markdown",
   "id": "da6f1d58",
   "metadata": {},
   "source": [
    "Análise:\n",
    "\n",
    "- A maioria das variáveis apresentou o VIF muito alto. Será que a escala nos dados afetou o cálculo? Provavelmente sim. Vamos ajustar isso agora."
   ]
  },
  {
   "cell_type": "markdown",
   "id": "0a9a5f18",
   "metadata": {},
   "source": [
    "<font color= darkred > <b> Padronização dos Dados </b> </font>\n"
   ]
  },
  {
   "cell_type": "code",
   "execution_count": null,
   "id": "46c01fea",
   "metadata": {},
   "outputs": [],
   "source": [
    "# Cria o padronizador\n",
    "scaler = StandardScaler()"
   ]
  },
  {
   "cell_type": "code",
   "execution_count": null,
   "id": "04ef25f8",
   "metadata": {},
   "outputs": [],
   "source": [
    "# Fit e transform em treino -Fit e pra treinar. So treino com dados de TREINO! :)\n",
    "# Fit transform vai treinar o padronizador e ja aplicar o resultado. \n",
    "X_treino_scaled = scaler.fit_transform(X_treino) # usou X_treino, não foi X_treino com a constante"
   ]
  },
  {
   "cell_type": "code",
   "execution_count": null,
   "id": "8ceab427",
   "metadata": {},
   "outputs": [],
   "source": [
    "X_treino_scaled.shape"
   ]
  },
  {
   "cell_type": "code",
   "execution_count": null,
   "id": "d615c678",
   "metadata": {},
   "outputs": [],
   "source": [
    "# Transform em teste \n",
    "# Nos dados de teste aplica direto o trasnforme, não aplica o fit\n",
    "# Observe que estamos aplicando a padronização somente em dados de entrada, não precisa padronizar Y\n",
    "# Em Y aplicamos a transformaçao de log no inicio, pq melhorou a distribuição da variavel (Skew)\n",
    "X_teste_scaled = scaler.transform(X_teste)"
   ]
  },
  {
   "cell_type": "code",
   "execution_count": null,
   "id": "1c2f22ba",
   "metadata": {},
   "outputs": [],
   "source": [
    "X_teste_scaled.shape"
   ]
  },
  {
   "cell_type": "markdown",
   "id": "92d11310",
   "metadata": {},
   "source": [
    "<font color= darkred > <b>Modelagem Estatistica - Estudando os relacionamentos entre variaveis. </b> </font> \n",
    "\n",
    "<font color= darkgreen > <b>  2ª Versão do Modelo - Usando dados padronizados (na mesma escala) </b> </font>"
   ]
  },
  {
   "cell_type": "code",
   "execution_count": null,
   "id": "9a3bc0ba",
   "metadata": {},
   "outputs": [],
   "source": [
    "# Adiciona a constante (obrigatório para modelos criados com Statsmodels)\n",
    "# Diferente de cima para treinusou __treino, agora tem a add a constante\n",
    "X_treino_const = sm.add_constant(X_treino_scaled)"
   ]
  },
  {
   "cell_type": "code",
   "execution_count": null,
   "id": "2c15dc94",
   "metadata": {},
   "outputs": [],
   "source": [
    "type(X_treino_const)"
   ]
  },
  {
   "cell_type": "code",
   "execution_count": null,
   "id": "20098579",
   "metadata": {},
   "outputs": [],
   "source": [
    "X_treino_const.shape"
   ]
  },
  {
   "cell_type": "code",
   "execution_count": null,
   "id": "ba53dea1",
   "metadata": {},
   "outputs": [],
   "source": [
    "type(y_treino)"
   ]
  },
  {
   "cell_type": "code",
   "execution_count": null,
   "id": "8084bef5",
   "metadata": {},
   "outputs": [],
   "source": [
    "y_treino.shape"
   ]
  },
  {
   "cell_type": "code",
   "execution_count": null,
   "id": "41ac23d4",
   "metadata": {},
   "outputs": [],
   "source": [
    "# Criando a segunda versão do modelo\n",
    "modelo_v2 = sm.OLS(y_treino, X_treino_const).fit()"
   ]
  },
  {
   "cell_type": "code",
   "execution_count": null,
   "id": "664ccb6d",
   "metadata": {},
   "outputs": [],
   "source": [
    "# Sumário\n",
    "modelo_v2.summary()"
   ]
  },
  {
   "cell_type": "markdown",
   "id": "b9b5d7dc",
   "metadata": {},
   "source": [
    "Análise:\n",
    "    \n",
    "- O R-Squared é praticamente o mesmo indicando que o modelo tem boa performance. Vamos então checar o VIF.\n",
    "- Mas a padronização melhorou a multicolinearidade, não está tão forte. Note[2] sumiu"
   ]
  },
  {
   "cell_type": "code",
   "execution_count": null,
   "id": "79c14031",
   "metadata": {},
   "outputs": [],
   "source": [
    "# Vamos verificar novamente VIF, pra checar o multicolinearidade\n",
    "dados.columns"
   ]
  },
  {
   "cell_type": "code",
   "execution_count": null,
   "id": "f1e121a2",
   "metadata": {},
   "outputs": [],
   "source": [
    "type(X_treino_scaled)"
   ]
  },
  {
   "cell_type": "code",
   "execution_count": null,
   "id": "4a22e81d",
   "metadata": {},
   "outputs": [],
   "source": [
    "# Converte o array NumPy para dataframe do Pandas (requerido para o VIF)\n",
    "df_X_treino = pd.DataFrame(X_treino_scaled)"
   ]
  },
  {
   "cell_type": "code",
   "execution_count": null,
   "id": "6a433891",
   "metadata": {},
   "outputs": [],
   "source": [
    "type(df_X_treino)"
   ]
  },
  {
   "cell_type": "code",
   "execution_count": null,
   "id": "c0078280",
   "metadata": {},
   "outputs": [],
   "source": [
    "# Depois da padronização os valores do VIF ficaram corretos.\n",
    "# Mas surgiu um problema, a padronização converteu o df para um array numpy que tirou o nome das variaveis\n",
    "# Não queremos apenas indices, precisamos voltar com nomes das variaveis\n",
    "print(verifica_vif(df_X_treino))"
   ]
  },
  {
   "cell_type": "code",
   "execution_count": null,
   "id": "a5d63e2e",
   "metadata": {},
   "outputs": [],
   "source": [
    "# Precisamos de um dataframe para checar o VIF. Vamos incluir o nome de cada coluna para facilitar a análise.\n",
    "# Para colocar os nomes novamente\n",
    "df_X_treino = pd.DataFrame(X_treino_scaled, columns = ['numero_medio_quartos_por_residencia',\n",
    "                                                       'idade_media_residencias',\n",
    "                                                       'taxa_criminalidade',\n",
    "                                                       'proporcao_lotes',\n",
    "                                                       'proporcao_empresas', \n",
    "                                                       'rio_no_bairro',\n",
    "                                                       'taxa_poluicao',\n",
    "                                                       'distancia_centro',\n",
    "                                                       'index_acessibilidade', \n",
    "                                                       'imposto_residencial', \n",
    "                                                       'taxa_professores',\n",
    "                                                       'consumo_medio_energia', \n",
    "                                                       'taxa_desabrigados'])"
   ]
  },
  {
   "cell_type": "code",
   "execution_count": null,
   "id": "88b64af8",
   "metadata": {},
   "outputs": [],
   "source": [
    "# Agora só tem 2 valores com VIF acima de cima.\n",
    "# O ideal é não ter a variavel multicoliner, por isso estamos trabalhando com marca de corte para VIF 5 ao inves de 10\n",
    "print(verifica_vif(df_X_treino))"
   ]
  },
  {
   "cell_type": "markdown",
   "id": "bcd2e156",
   "metadata": {},
   "source": [
    "Análise:\n",
    "\n",
    "- As variáveis index_acessibilidade e imposto_residencial apresentam um VIF maior que 5, indicando multicolinearidade. Vamos remover as variáveis. Lembre-se de remover em treino e em teste!!\n",
    "\n",
    "\n",
    "- O VIF precisa ser calculado somente com dados de treino. Mas variáveis devem ser removidas em treino e teste!!!"
   ]
  },
  {
   "cell_type": "code",
   "execution_count": null,
   "id": "1212b370",
   "metadata": {},
   "outputs": [],
   "source": [
    "del df_X_treino[\"index_acessibilidade\"]"
   ]
  },
  {
   "cell_type": "code",
   "execution_count": null,
   "id": "303c774d",
   "metadata": {},
   "outputs": [],
   "source": [
    "del df_X_treino[\"imposto_residencial\"]"
   ]
  },
  {
   "cell_type": "code",
   "execution_count": null,
   "id": "75ed76b2",
   "metadata": {},
   "outputs": [],
   "source": [
    "df_X_treino.shape"
   ]
  },
  {
   "cell_type": "code",
   "execution_count": null,
   "id": "63d36f59",
   "metadata": {},
   "outputs": [],
   "source": [
    "df_X_treino.columns"
   ]
  },
  {
   "cell_type": "code",
   "execution_count": null,
   "id": "6c3cc02e",
   "metadata": {},
   "outputs": [],
   "source": [
    "# Tudo que faz em treino, faz em teste... Deixar com 11 variaveis tb\n",
    "# Convertemos o array de teste em dataframe de teste\n",
    "df_X_teste = pd.DataFrame(X_teste_scaled, columns = ['numero_medio_quartos_por_residencia',\n",
    "                                                     'idade_media_residencias',\n",
    "                                                     'taxa_criminalidade',\n",
    "                                                     'proporcao_lotes',\n",
    "                                                     'proporcao_empresas', \n",
    "                                                     'rio_no_bairro',\n",
    "                                                     'taxa_poluicao',\n",
    "                                                     'distancia_centro',\n",
    "                                                     'index_acessibilidade', \n",
    "                                                     'imposto_residencial', \n",
    "                                                     'taxa_professores',\n",
    "                                                     'consumo_medio_energia', \n",
    "                                                     'taxa_desabrigados'])"
   ]
  },
  {
   "cell_type": "code",
   "execution_count": null,
   "id": "b2c909ba",
   "metadata": {},
   "outputs": [],
   "source": [
    "del df_X_teste[\"index_acessibilidade\"]"
   ]
  },
  {
   "cell_type": "code",
   "execution_count": null,
   "id": "8a4a1fc8",
   "metadata": {},
   "outputs": [],
   "source": [
    "del df_X_teste[\"imposto_residencial\"]"
   ]
  },
  {
   "cell_type": "code",
   "execution_count": null,
   "id": "c8dcf706",
   "metadata": {},
   "outputs": [],
   "source": [
    "# Nº tde colunas devem ser iguais para treino e teste - 11 no caso\n",
    "df_X_teste.shape"
   ]
  },
  {
   "cell_type": "code",
   "execution_count": null,
   "id": "1783a19b",
   "metadata": {},
   "outputs": [],
   "source": [
    "print(verifica_vif(df_X_treino))"
   ]
  },
  {
   "cell_type": "markdown",
   "id": "fd00b80f",
   "metadata": {},
   "source": [
    "Análise:\n",
    "\n",
    "- Conseguimos remover a multicolinearidade forte do dataset e assim atendemos a uma das suposições da regressão linear."
   ]
  },
  {
   "cell_type": "code",
   "execution_count": null,
   "id": "4c7c7926",
   "metadata": {},
   "outputs": [],
   "source": [
    "# Converte o dataframe de volta para o formato NumPy, porque vai usar no stats models\n",
    "X_treino_scaled = df_X_treino.to_numpy()"
   ]
  },
  {
   "cell_type": "code",
   "execution_count": null,
   "id": "9ef49af9",
   "metadata": {},
   "outputs": [],
   "source": [
    "X_treino_scaled.shape"
   ]
  },
  {
   "cell_type": "code",
   "execution_count": null,
   "id": "1de7d5a9",
   "metadata": {},
   "outputs": [],
   "source": [
    "# Converte o dataframe de volta para o formato NumPy\n",
    "X_teste_scaled = df_X_teste.to_numpy()"
   ]
  },
  {
   "cell_type": "code",
   "execution_count": null,
   "id": "58f0e9d2",
   "metadata": {},
   "outputs": [],
   "source": [
    "# Sempre verifique o shape depois das trasnformações\n",
    "X_teste_scaled.shape"
   ]
  },
  {
   "cell_type": "markdown",
   "id": "48e538be",
   "metadata": {},
   "source": [
    "<font color= darkred > <b>Modelagem Estatistica - Estudando os relacionamentos entre variaveis. </b> </font> \n",
    "\n",
    "<font color= darkgreen > <b>  3ª Versão do Modelo - Usando dados padronizados e sem as variaveis multicolineares </b> </font>"
   ]
  },
  {
   "cell_type": "code",
   "execution_count": null,
   "id": "a11cff73",
   "metadata": {},
   "outputs": [],
   "source": [
    "# Adiciona a constante\n",
    "X_treino_const = sm.add_constant(X_treino_scaled)"
   ]
  },
  {
   "cell_type": "code",
   "execution_count": null,
   "id": "0442667a",
   "metadata": {},
   "outputs": [],
   "source": [
    "# Cria o modelo\n",
    "modelo_v3 = sm.OLS(y_treino, X_treino_const).fit()"
   ]
  },
  {
   "cell_type": "code",
   "execution_count": null,
   "id": "7319da28",
   "metadata": {},
   "outputs": [],
   "source": [
    "# Sumário\n",
    "modelo_v3.summary()"
   ]
  },
  {
   "cell_type": "markdown",
   "id": "66b81b3e",
   "metadata": {},
   "source": [
    "##### Análise:\n",
    "\n",
    "- O R2 caiu um pouco, mas ainda temos ótima performance.\n",
    "\n",
    "- Variáveis x2, x5 e x10 apresentaram valor-p maior que 0.05. Logo, não parecem significantes para o modelo e vamos removê-las."
   ]
  },
  {
   "cell_type": "markdown",
   "id": "cc6caf52",
   "metadata": {},
   "source": [
    "<font color= darkred > <b>  Checando a Estatistica do P-Value (Valor p < que 0,5 )</b> </font> \n",
    "\n",
    "Em modelagem estatística, o valor-p é uma medida da probabilidade de que os resultados observados tenham ocorrido por acaso. É comumente usado em testes de hipóteses para determinar se um determinado modelo ou hipótese é suportado pelos dados.\n",
    "\n",
    "No contexto de uma tabela de modelagem estatística, o valor-p é normalmente apresentado como uma coluna na tabela e reflete a **probabilidade de obter os resultados observados dada a suposição de que a hipótese nula é verdadeira.**\n",
    "<font color= darkgreen > <b> A hipótese nula é uma afirmação de que não há relação entre as variáveis preditoras e a variável de resposta no modelo.</b> </font>\n",
    "\n",
    "Por exemplo, se o valor-p para uma determinada variável preditora na tabela de modelagem estatística for muito **pequeno (geralmente menor que 0,05), isso indica que há uma probabilidade baixa de obter os resultados observados apenas por acaso e, portanto, a hipótese nula pode ser rejeitada.** <font color= darkgreen > <b> Isso sugere que existe uma relação estatisticamente significativa entre a variável preditora e a variável resposta.</b> </font>\n",
    "\n",
    "Por outro lado, se o valor-p for **grande (geralmente maior que 0,05), indica que os resultados observados podem ter ocorrido por acaso, e a hipótese nula não pode ser rejeitada.** Nesse caso, <font color= darkgreen > <b> não há evidências suficientes para sustentar a presença de uma relação entre a variável preditora e a variável resposta.</b> </font>\n",
    "\n",
    "É importante observar que o valor-p é apenas um fator a ser considerado ao avaliar os resultados de um modelo estatístico. Outros fatores, como a magnitude do efeito e a força da associação, também devem ser levados em consideração na interpretação dos resultados do modelo."
   ]
  },
  {
   "cell_type": "code",
   "execution_count": null,
   "id": "1b939385",
   "metadata": {},
   "outputs": [],
   "source": [
    "# A variável x2 tem o índice 1 - indexação em py começa por zero\n",
    "# Listamos aqui todas as linhas da coluna de índice 1 \n",
    "X_treino_scaled[:,1]"
   ]
  },
  {
   "cell_type": "code",
   "execution_count": null,
   "id": "694eb7dd",
   "metadata": {},
   "outputs": [],
   "source": [
    "# Removemos as colunas de índice 1, 4 e 9 em treino - variaveis x2,x5 e x10\n",
    "X_treino_clean = np.delete(X_treino_scaled, [1, 4, 9], axis = 1) #linhas"
   ]
  },
  {
   "cell_type": "code",
   "execution_count": null,
   "id": "1a11f3c4",
   "metadata": {},
   "outputs": [],
   "source": [
    "# Removemos as colunas de índice 1, 4 e 9 em teste\n",
    "X_teste_clean = np.delete(X_teste_scaled, [1, 4, 9], axis = 1)"
   ]
  },
  {
   "cell_type": "code",
   "execution_count": null,
   "id": "55a9b164",
   "metadata": {},
   "outputs": [],
   "source": [
    "# Agora temos 8 variaveis de entrada\n",
    "X_treino_clean.shape"
   ]
  },
  {
   "cell_type": "code",
   "execution_count": null,
   "id": "b3855d64",
   "metadata": {},
   "outputs": [],
   "source": [
    "X_teste_clean.shape"
   ]
  },
  {
   "cell_type": "markdown",
   "id": "630aa7f9",
   "metadata": {},
   "source": [
    "<font color= darkred > <b>Modelagem Estatistica - Estudando os relacionamentos entre variaveis. </b> </font> \n",
    "\n",
    "<font color= darkgreen > <b>  4ª Versão do Modelo  </b> </font>\n",
    "\n",
    "<font color= darkgreen > <b>  Usando dados padronizados e sem as variaveis multicolineares e sem as variáveis com baixa significância para explicar a variável alvo. </b> </font>"
   ]
  },
  {
   "cell_type": "code",
   "execution_count": null,
   "id": "1fcd0f44",
   "metadata": {},
   "outputs": [],
   "source": [
    "# Adiciona a constante (exigencia do stats model a soma da cte)\n",
    "X_treino_const = sm.add_constant(X_treino_clean)"
   ]
  },
  {
   "cell_type": "code",
   "execution_count": null,
   "id": "23bf9d67",
   "metadata": {},
   "outputs": [],
   "source": [
    "# Cria o modelo\n",
    "modelo_v4 = sm.OLS(y_treino, X_treino_const).fit()"
   ]
  },
  {
   "cell_type": "code",
   "execution_count": null,
   "id": "d1fa0aaf",
   "metadata": {},
   "outputs": [],
   "source": [
    "# Sumário\n",
    "modelo_v4.summary()"
   ]
  },
  {
   "cell_type": "markdown",
   "id": "95aed4c6",
   "metadata": {},
   "source": [
    "##### Análise:\n",
    "\n",
    "- O valor do R2 é quase o mesmo, mas agora sem variáveis multicolineares e sem variáveis irrelevantes. Precisamos remover a variável x3 que agora esta com 0,11 apos a reordenação e deleção das variavel na etapa anterior. ESta com valor para o pavlue muito maior que 0,05. Significando a a variavel x3 não é significativa para prever a variavel alvo."
   ]
  },
  {
   "cell_type": "code",
   "execution_count": null,
   "id": "1b529d4e",
   "metadata": {},
   "outputs": [],
   "source": [
    "# Removemos a coluna de índice 2 em treino\n",
    "# Aplica no x_treino_clean!! Ja com a limpeza na etapa anterior\n",
    "X_treino_clean2 = np.delete(X_treino_clean, [2], axis = 1)"
   ]
  },
  {
   "cell_type": "code",
   "execution_count": null,
   "id": "d32c0a44",
   "metadata": {},
   "outputs": [],
   "source": [
    "# Removemos a coluna de índice 2 em teste\n",
    "X_teste_clean2 = np.delete(X_teste_clean, [2], axis = 1)"
   ]
  },
  {
   "cell_type": "code",
   "execution_count": null,
   "id": "e47825df",
   "metadata": {},
   "outputs": [],
   "source": [
    "X_treino_clean2.shape"
   ]
  },
  {
   "cell_type": "code",
   "execution_count": null,
   "id": "bc96926b",
   "metadata": {},
   "outputs": [],
   "source": [
    "X_teste_clean2.shape"
   ]
  },
  {
   "cell_type": "markdown",
   "id": "4552deb3",
   "metadata": {},
   "source": [
    "<font color= darkred > <b>Modelagem Estatistica - Estudando os relacionamentos entre variaveis. </b> </font> \n",
    "\n",
    "<font color= darkgreen > <b>  5ª Versão do Modelo  </b> </font>\n",
    "\n",
    "<font color= darkgreen > <b>  Usando dados padronizados e sem as variaveis multicolineares e sem as variáveis com baixa significância para explicar a variável alvo. </b> </font>"
   ]
  },
  {
   "cell_type": "code",
   "execution_count": null,
   "id": "e9abf8b0",
   "metadata": {},
   "outputs": [],
   "source": [
    "# Adiciona a constante\n",
    "X_treino_const = sm.add_constant(X_treino_clean2)"
   ]
  },
  {
   "cell_type": "code",
   "execution_count": null,
   "id": "f7cb79d4",
   "metadata": {},
   "outputs": [],
   "source": [
    "# Cria o modelo\n",
    "modelo_v5 = sm.OLS(y_treino, X_treino_const).fit()"
   ]
  },
  {
   "cell_type": "code",
   "execution_count": null,
   "id": "b6d65571",
   "metadata": {},
   "outputs": [],
   "source": [
    "# Sumário\n",
    "modelo_v5.summary()"
   ]
  },
  {
   "cell_type": "markdown",
   "id": "aa24d82c",
   "metadata": {},
   "source": [
    "##### Análise:\n",
    "\n",
    "- O valor do R2 é quase o mesmo, mas agora sem variáveis multicolineares e sem variáveis irrelevantes.\n",
    "\n",
    "\n",
    "- Concluímos a modelagem estatística e temos as melhores variáveis para prever a variável alvo.\n",
    "\n",
    "\n",
    "- Podemos usar o modelo e extrair insights? Não. :)) Temos que validar as suposições para o metodo da RL."
   ]
  },
  {
   "cell_type": "markdown",
   "id": "3ff8b7ce",
   "metadata": {},
   "source": [
    "\n",
    "<font color = darkred > <b> Automatizando a Validação das Suposições da Regressão Linear </b> </font>\n",
    "\n",
    "Podemos usar o modelo de regressão criado até aqui? \n",
    "Sim, desde que as suposições sejam validadas.\n",
    "\n",
    "**1- Linearidade** - A relação entre a variável dependente e as variáveis independentes é linear.\n",
    "\n",
    "**2- Independência dos Erros** - Os erros (resíduos) são independentes entre si e não estão correlacionados com as variáveis independentes.\n",
    "\n",
    "**3- Homocedasticidade** - A variância  dos  erros  é  constante  em  todas  as  variáveis independentes.\n",
    "\n",
    "**4- Normalização dos Erros** - Os erros são normalmente distribuídos.\n",
    "\n",
    "**5- Sem Multicolinearidade** - As  variáveis  independentes  não  são  altamente correlacionadas umas com as outras\n",
    "\n",
    "Usaremos a última versão do modelo para fazer as validações.\n",
    "\n",
    "OBS: As suposições 2,3,4 so pode fazer depois do modelo treinado, 1 e 5 pode fazer antes e nem desenvolver o modelo caso não consiga enquadrar"
   ]
  },
  {
   "cell_type": "markdown",
   "id": "c5142aa5",
   "metadata": {},
   "source": [
    "<font color= darkred > <b> 1- Linearidade </b> </font> \n",
    "\n",
    "Uma das suposições cruciais que testamos ao construir modelos baseados em mínimos quadrados ordinários ou regressões lineares é a **linearidade nos parâmetros. **\n",
    "\n",
    "A linearidade simplesmente implica que nossa variável dependente (Y) pode ser expressa como uma função linear das variáveis explicativas (X) que estamos escolhendo para explicar a variação na variável Y. Observe que o termo 'regressão linear' enfatiza a importância da suposição de linearidade.\n",
    "\n",
    "A regressão linear precisa que a relação entre as variáveis independentes e dependentes seja linear. Também é importante verificar se há valores discrepantes, pois a regressão linear é sensível a efeitos extremos. A suposição de linearidade pode ser melhor testada com gráficos de dispersão ou usando o teste linear_rainbow.\n",
    "\n",
    "O teste linear_rainbow é um teste que verifica se uma regressão linear é homocedástica ou heterocedástica. Ele é chamado de \"rainbow\" porque ele usa vários valores de corte para dividir os dados em grupos e comparar os resíduos desses grupos. Se os resíduos dos grupos tiverem variações similares, isso sugere que a regressão é homocedástica. Se os resíduos dos grupos tiverem variações diferentes, isso sugere que a regressão é heterocedástica.\n",
    "\n",
    "Para realizar o **teste linear_rainbow com statsmodels, você pode usar o método linear_rainbow().**\n",
    "O linear_rainbow é um teste estatistico, que retorna um estatistica de resultado, no caso o p value\n",
    "\n",
    "Para interpretar o resultado, você pode comparar o valor-p (resultado do teste) com um nível de significância pré-determinado (por exemplo, 0,05). \n",
    "\n",
    "* Se o valor-p for **menor que o nível de significância, rejeitamos a H0 (Hipótese Nula)**.\n",
    "\n",
    "<font color= darkgreen> <b> Isso indica que há evidências de heterocedasticidade e que a regressão não é homocedástica. A suposição não pode ser satisfeita. </b> </font> \n",
    "\n",
    "\n",
    "* Se o valor-p for **maior que o nível de significância, falhamos em rejeitar a H0 (Hipótese Nula).**\n",
    "\n",
    "<font color= darkgreen> <b> Isso indica que a regressão é provavelmente homocedástica e a suposição está satisfeita.</b> </font> "
   ]
  },
  {
   "cell_type": "markdown",
   "id": "8b015b26",
   "metadata": {},
   "source": [
    "https://www.statsmodels.org/dev/generated/statsmodels.stats.diagnostic.linear_rainbow.html"
   ]
  },
  {
   "cell_type": "code",
   "execution_count": null,
   "id": "7d89c705",
   "metadata": {},
   "outputs": [],
   "source": [
    "# Vamos construir uma função para automatizar a validação da suposição 1.\n",
    "\n",
    "# Função\n",
    "def valida_sup_1(nome_modelo):\n",
    "    \n",
    "    # Define o modelo\n",
    "    modelo = nome_modelo\n",
    "    \n",
    "    # Aplica o linear_rainbow \n",
    "    # Passa o modelo final como argumanto e define o nivel de significancia\n",
    "    # So queremos a 2ª estatistica de retorno do teste, indice [1], pq o teste reorna outras estatisticas\n",
    "    lin_p = sms.linear_rainbow(modelo, frac = 0.5)[1]\n",
    "    \n",
    "    print(lin_p)\n",
    "    \n",
    "    # Inicializa a variável com Falha\n",
    "    result = \"Rejeitamos a H0 (Hipótese Nula). Isso indica que há evidências de heterocedasticidade e que a regressão não é homocedástica. A suposição não pode ser satisfeita.\"\n",
    "    \n",
    "    # Testa o resultado\n",
    "    if lin_p > 0.05:\n",
    "        result = \"Sucesso! Falhamos em rejeitar a H0 (Hipótese Nula). Isso indica que a regressão é provavelmente homocedástica e a suposição está satisfeita.\"\n",
    "        \n",
    "    # Retorno\n",
    "    return np.transpose(pd.DataFrame([[lin_p], [0.05], [result]],\n",
    "                                     index = ['Valor-p', 'Alfa', 'Resultado'],\n",
    "                                     columns = ['Valor-p do Rainbow Linearity Test'] ))"
   ]
  },
  {
   "cell_type": "code",
   "execution_count": null,
   "id": "4cd8af58",
   "metadata": {},
   "outputs": [],
   "source": [
    "# Aplica a função\n",
    "valida_sup_1(modelo_v5)"
   ]
  },
  {
   "cell_type": "markdown",
   "id": "ad551e9e",
   "metadata": {},
   "source": [
    "##### Análise:\n",
    "\n",
    "Sucesso! Falhamos em rejeitar a H0 (Hipótese Nula). Isso indica que a regressão é provavelmente homocedástica e a suposição está satisfeita."
   ]
  },
  {
   "cell_type": "markdown",
   "id": "6853dbe1",
   "metadata": {},
   "source": [
    "<font color=darkred> <b>  2- Independência dos Erros </b> </font>\n",
    "\n",
    "Na regressão linear, a suposição de independência dos erros é a suposição de que os erros (resíduos) são independentes entre si. Isso significa que o valor de um erro não deve ser afetado pelo valor de qualquer outro erro.\n",
    "\n",
    "Essa suposição é importante porque ela é necessária para que o cálculo dos intervalos de confiança e dos valores-p dos parâmetros seja preciso. **Se a suposição de independência dos erros não for satisfeita, os intervalos de confiança e os valores-p podem ser imprecisos ou enganosos.**\n",
    "\n",
    "Para verificar se a suposição de independência dos erros está sendo satisfeita, você pode plotar um gráfico de resíduos versus tempo (se os dados forem observações ao longo do tempo) e verificar se há algum padrão evidente. Você também pode usar um teste estatístico, como o **Teste de Durbin-Watson**, para verificar se a suposição de independência dos erros está sendo satisfeita. Se a suposição de independência dos erros não for satisfeita, você pode tentar usar um modelo de regressão diferente ou incluir variáveis adicionais no modelo para controlar o efeito da dependência dos erros.\n",
    "\n",
    "Para testar a suposição, plotaremos os resíduos e os valores ajustados em um gráfico e garantiremos que os resíduos não formem um padrão forte. Eles devem ser aleatoriamente e uniformemente espalhados no eixo x."
   ]
  },
  {
   "cell_type": "code",
   "execution_count": null,
   "id": "d5e9d85a",
   "metadata": {},
   "outputs": [],
   "source": [
    "# Temos variavel y, usamos o valor real - valor previsto no modelo em cada linha\n",
    "# Vamos extrair os resíduos do modelo_v5\n",
    "residuals = modelo_v5.resid"
   ]
  },
  {
   "cell_type": "code",
   "execution_count": null,
   "id": "b5dd2f60",
   "metadata": {},
   "outputs": [],
   "source": [
    "print(residuals)"
   ]
  },
  {
   "cell_type": "code",
   "execution_count": null,
   "id": "136123b4",
   "metadata": {},
   "outputs": [],
   "source": [
    "# Qto mais bolinhas azuis perto do valor zero(horizontal, menor erro\n",
    "# Plot\n",
    "plt.scatter(range(len(X_treino_clean2)), residuals)"
   ]
  },
  {
   "cell_type": "code",
   "execution_count": null,
   "id": "12143063",
   "metadata": {},
   "outputs": [],
   "source": [
    "# Valores previstos com a linha do zero, para melhor visualização\n",
    "valores_previstos = modelo_v5.fittedvalues\n",
    "# Cria o plot residual usando a função residplot \n",
    "# se as bolinhas verdes tiverem uma orientação diagonal posit ou negat, indica dependencia dos erros\n",
    "# independencia conseguimos qdo tem a linha pontilhada e os pontos seguindo orientação horizontal\n",
    "# Plot\n",
    "plt.figure(figsize = (10,5))\n",
    "sns.residplot(x = valores_previstos, y = residuals, color = \"green\", lowess = True)\n",
    "plt.xlabel(\"Valores Previstos\")\n",
    "plt.ylabel(\"Resíduos\")\n",
    "plt.title(\"Plot Residual\")\n",
    "plt.show()"
   ]
  },
  {
   "cell_type": "markdown",
   "id": "24b14966",
   "metadata": {},
   "source": [
    "##### Análise:\n",
    "\n",
    "- A média dos resíduos é muito próxima de 0, portanto, a suposição para os resíduos é satisfeita. Os resíduos são plotados aleatoriamente em torno de 0.\n",
    "- Os resíduos \"saltam aleatoriamente\" em torno da linha 0. Isso sugere que não há autocorrelação.\n",
    "- Os resíduos formam aproximadamente uma \"faixa horizontal\" em torno da linha 0. Isso sugere que as variâncias dos termos de erro são iguais.\n",
    "- Nenhum resíduo \"se destaca\" do padrão aleatório básico de resíduos. Isso sugere que não há outliers."
   ]
  },
  {
   "cell_type": "markdown",
   "id": "be01d081",
   "metadata": {},
   "source": [
    "O **Teste de Durbin-Watson** é um teste estatístico que verifica se a suposição de independência dos erros está sendo satisfeita em um modelo de regressão linear. Esse teste é especialmente útil quando os dados são observações ao longo do tempo, pois pode detectar autocorrelação nos erros.\n",
    "\n",
    "Para aplicar o Teste de Durbin-Watson com statsmodels, você pode usar o método durbin_watson(). Esse método retorna um valor entre 0 e 4, onde **valores próximos de 0 indicam autocorrelação positiva nos erros e valores próximos de 4 indicam autocorrelação negativa nos erros**. Valores próximos de 2 indicam ausência de autocorrelação nos erros.\n",
    "Como obs, esse teste não usa o P-value como estatistica principal"
   ]
  },
  {
   "cell_type": "code",
   "execution_count": null,
   "id": "55eb7e28",
   "metadata": {},
   "outputs": [],
   "source": [
    "# Vamos construir uma função para automatizar a validação da suposição 2.\n",
    "\n",
    "# Função\n",
    "def valida_sup_2(residuos):\n",
    "    \n",
    "    import statsmodels\n",
    "    \n",
    "    # Define o modelo\n",
    "    resultado = statsmodels.stats.stattools.durbin_watson(residuos)\n",
    "    \n",
    "    print('Resultado do teste:', resultado)\n",
    "    \n",
    "    # Interprete o resultado\n",
    "    if resultado < 1.9:\n",
    "        print(\"Há evidências de autocorrelação positiva nos erros! Suposição não satisfeita!\")\n",
    "    elif resultado > 2.1:\n",
    "        print(\"Há evidências de autocorrelação negativa nos erros! Suposição não satisfeita!\")\n",
    "    else:\n",
    "        print(\"Não há evidências de autocorrelação nos erros! Suposição satisfeita!\")"
   ]
  },
  {
   "cell_type": "code",
   "execution_count": null,
   "id": "c6a12bf8",
   "metadata": {},
   "outputs": [],
   "source": [
    "valida_sup_2(residuals)"
   ]
  },
  {
   "cell_type": "code",
   "execution_count": null,
   "id": "d59e4399",
   "metadata": {},
   "outputs": [],
   "source": [
    "# Versões dos pacotes usados neste jupyter notebook\n",
    "%reload_ext watermark\n",
    "%watermark -a \"Michelle Bouhid\" --iversions"
   ]
  },
  {
   "cell_type": "markdown",
   "id": "3c162c38",
   "metadata": {},
   "source": [
    "### 3- Homocedasticidade\n",
    "\n",
    "A suposição de homocedasticidade (que significa “mesma variância”) é fundamental para os modelos de regressão linear. A homocedasticidade descreve uma situação em que o termo de erro (ou seja, o “ruído” ou perturbação aleatória na relação entre as variáveis independentes e a variável dependente) é o mesmo em todos os valores das variáveis independentes. \n",
    "\n",
    "A heterocedasticidade (a violação da homocedasticidade) está presente quando o tamanho do termo de erro difere entre os valores de uma variável independente. O impacto da violação do pressuposto da homocedasticidade é uma questão de grau, aumentando à medida que a heterocedasticidade aumenta.\n",
    "\n",
    "Homocedasticidade - Se os resíduos forem distribuídos simetricamente ao longo da linha de regressão, os dados são considerados homocedásticos (a variabilidade é igual entre os valores de uma variável explicativa).\n",
    "\n",
    "Heterocedasticidade - Se os resíduos não forem distribuídos simetricamente ao longo da linha de regressão, os dados são considerados heterocedásticos. Nesse caso, os resíduos podem ter uma forma de funil ou qualquer outra forma não simétrica.\n",
    "\n",
    "**Resumindo:**\n",
    "\n",
    "**A homocedasticidade é a propriedade de uma distribuição de dados em que a variabilidade dos dados é constante em todos os níveis de uma variável. Em outras palavras, a homocedasticidade ocorre quando os dados possuem uma variação constante em relação a uma determinada variável. Isso é diferente da heterocedasticidade, que ocorre quando a variabilidade dos dados é diferente em diferentes níveis da variável.**\n",
    "\n",
    "**A homocedasticidade é importante em análises estatísticas porque alguns testes estatísticos pressupõem que os dados são homocedásticos. Se os dados não são homocedásticos, os resultados do teste podem ser imprecisos ou enganosos.**\n",
    "\n",
    "Usaremos o Teste de Goldfeldquandt para testar a seguinte hipótese com alfa = 0,05\n",
    "\n",
    "- Hipótese nula (H0): Há evidências de heterocedasticidade (a regressão não é homocedástica).\n",
    "\n",
    "- Hipótese alternativa (H1): Não há evidências de heterocedasticidade (a regressão é provavelmente homocedástica).\n",
    "\n",
    "Nosso teste deve rejeitar a H0.\n",
    "\n",
    "O **Teste de Goldfeld-Quandt** é um teste que verifica se uma regressão linear é homocedástica ou heterocedástica. Esse teste é realizado dividindo os dados em dois grupos e comparando os resíduos dos dois grupos. Se os resíduos dos dois grupos tiverem variações similares, isso sugere que a regressão é homocedástica. Se os resíduos dos dois grupos tiverem variações diferentes, isso sugere que a regressão é heterocedástica.\n",
    "\n",
    "Para realizar o Teste de Goldfeld-Quandt com statsmodels, você pode usar o método het_goldfeldquandt(). \n",
    "\n",
    "Para interpretar o resultado, você pode comparar o valor-p com um nível de significância pré-determinado (por exemplo, 0,05). \n",
    "\n",
    "* Se o valor-p for menor que o nível de significância, rejeitamos a H0. Isso indica que há evidências de heterocedasticidade e que a regressão não é homocedástica. \n",
    "\n",
    "\n",
    "* Se o valor-p for maior que o nível de significância, falhamos em rejeitar a H0. isso indica que a regressão é provavelmente homocedástica e a suposição está satisfeita.\n",
    "\n",
    "O problema que a heterocedasticidade apresenta para modelos de regressão é simples. Lembre-se de que a regressão de mínimos quadrados ordinários (OLS) procura minimizar os resíduos e, por sua vez, produzir os menores erros padrão possíveis. Por definição, a regressão OLS dá peso igual a todas as observações, mas quando a heterocedasticidade está presente, os casos com maiores perturbações têm mais “atração” do que outras observações. Nesse caso, a regressão de mínimos quadrados ponderada seria mais apropriada, pois reduz o peso das observações com perturbações maiores."
   ]
  },
  {
   "cell_type": "code",
   "execution_count": null,
   "id": "0bbb9d07",
   "metadata": {},
   "outputs": [],
   "source": [
    "# Resíduos\n",
    "residuals = modelo_v5.resid\n",
    "\n",
    "# é o mesmo grafico de cima, mas o zero deslocado para baixo no grafico\n",
    "# Plot\n",
    "plt.scatter(range(len(X_treino_clean2)),np.square(residuals))"
   ]
  },
  {
   "cell_type": "markdown",
   "id": "b1e3e0f6",
   "metadata": {},
   "source": [
    "Como o gráfico não apresenta padrão, podemos concluir que não há heterocedasticidade. Mas vamos aplicar um teste estatístico."
   ]
  },
  {
   "cell_type": "code",
   "execution_count": null,
   "id": "95a59c43",
   "metadata": {},
   "outputs": [],
   "source": [
    "# Função que automatiza o processo de checagem\n",
    "def valida_sup_3(y, x):\n",
    "    \n",
    "    # Estatísticas\n",
    "    estatisticas = [\"F statistic\", \"p-value\"]\n",
    "    \n",
    "    # Teste\n",
    "    teste_goldfeldquandt = sms.het_goldfeldquandt(y, x)\n",
    "    \n",
    "    resultado = lzip(estatisticas, teste_goldfeldquandt) #zip criando uma tupla\n",
    "    \n",
    "    pval = resultado[1][1] # findice1 e pvalue indice1 - que o teste imprime\n",
    "   \n",
    "    if pval < 0.05:\n",
    "        print(\"Há evidências de heterocedasticidade (a regressão não é homocedástica) e rejeitamos a H0. Suposição não satisfeita!\")\n",
    "    else:\n",
    "        print(\"Não há evidências de heterocedasticidade (a regressão é provavelmente homocedástica). Falhamos em rejeitar a H0. Suposição satisfeita!\")\n",
    "    \n"
   ]
  },
  {
   "cell_type": "code",
   "execution_count": null,
   "id": "e259a8cd",
   "metadata": {},
   "outputs": [],
   "source": [
    "# Aplica a função\n",
    "valida_sup_3(y_treino, X_treino_clean2)"
   ]
  },
  {
   "cell_type": "markdown",
   "id": "3ce038d4",
   "metadata": {},
   "source": [
    "##### Análise:\n",
    "\n",
    "Não há evidências de heterocedasticidade (a regressão é provavelmente homocedástica). Falhamos em rejeitar a H0. Suposição satisfeita!"
   ]
  },
  {
   "cell_type": "markdown",
   "id": "c1b3a0c3",
   "metadata": {},
   "source": [
    "#### 4- Normalização dos Erros (obs não é uma suposição sobre as variaveis, mas sim, sobre o resultado do modelo, dado pelos erros\n",
    "\n",
    "Normalidade dos termos de erro. Os resíduos devem ser normalmente distribuídos.\n",
    "\n",
    "Essa suposição pode ser melhor verificada com um histograma ou um Q-Q-Plot. \n",
    "\n",
    "Na regressão linear, a suposição de normalização dos resíduos é a suposição de que os resíduos (erros) da regressão seguem uma distribuição normal. Isso significa que os resíduos devem ter uma média zero e uma variância constante.\n",
    "\n",
    "Essa suposição é importante porque alguns testes estatísticos e métodos de estimação de parâmetros pressupõem que os resíduos seguem uma distribuição normal. Se os resíduos não seguirem uma distribuição normal, os resultados desses testes e métodos podem ser imprecisos ou enganosos.\n",
    "\n",
    "Para verificar se os resíduos seguem uma distribuição normal, você pode plotar um gráfico de resíduos e observar se os resíduos seguem uma distribuição normal. Você também pode usar um teste de normalidade, como o Teste de Shapiro-Wilk, para verificar se os resíduos seguem uma distribuição normal. Se os resíduos não seguirem uma distribuição normal, você pode tentar transformar os dados ou usar um modelo de regressão diferente."
   ]
  },
  {
   "cell_type": "code",
   "execution_count": null,
   "id": "9eb3e4e5",
   "metadata": {},
   "outputs": [],
   "source": [
    "residuals = modelo_v5.resid"
   ]
  },
  {
   "cell_type": "code",
   "execution_count": null,
   "id": "d567aca2",
   "metadata": {},
   "outputs": [],
   "source": [
    "# Histograma dos resíduos\n",
    "sns.histplot(residuals, kde = True, color = 'purple')"
   ]
  },
  {
   "cell_type": "markdown",
   "id": "e1f2ae43",
   "metadata": {},
   "source": [
    "Vamos criar um QQ Plot.\n",
    "\n",
    "**Um gráfico qq (quantile-quantile) é um gráfico que é usado para comparar duas distribuições de dados.** Ele é chamado de \"qq\" porque ele compara os quantis das duas distribuições. Os quantis são os valores que dividem os dados em partes iguais. Por exemplo, o primeiro quartil é o valor que divide os dados em um quarto menor e três quartos maiores.\n",
    "\n",
    "Para interpretar um gráfico qq, você deve observar se os pontos seguem uma linha diagonal. Se os pontos seguirem uma linha diagonal, isso indica que as duas distribuições são similares. Se os pontos não seguirem uma linha diagonal, isso indica que as duas distribuições são diferentes.\n",
    "\n",
    "Um gráfico qq é útil para verificar se os dados seguem uma distribuição específica, como a distribuição normal. Se os dados seguirem uma distribuição normal, os pontos no gráfico qq devem seguir uma linha diagonal. Se os pontos não seguirem uma linha diagonal, isso pode indicar que os dados não seguem uma distribuição normal."
   ]
  },
  {
   "cell_type": "code",
   "execution_count": null,
   "id": "bf525e4d",
   "metadata": {},
   "outputs": [],
   "source": [
    "# linha vermelha - reta de regressão, pontos azuis residuos\n",
    "# QQ Plot\n",
    "stats.probplot(residuals, dist = \"norm\", plot = pylab)\n",
    "plt.show()"
   ]
  },
  {
   "cell_type": "markdown",
   "id": "b6ecbed7",
   "metadata": {},
   "source": [
    "##### Análise:\n",
    "\n",
    "Os resíduos seguem praticamente uma distribuição normal. A suposição estaria satisfeita. Vamos aplicar o Teste de Shapiro-Wilk aos resíduos para confirmar."
   ]
  },
  {
   "cell_type": "markdown",
   "id": "35d98ff1",
   "metadata": {},
   "source": [
    "Para interpretar o resultado do teste, você pode comparar o valor-p com um nível de significância pré-determinado (por exemplo, 0,05). \n",
    "\n",
    "* Se o valor-p for menor que o nível de significância, rejeitamos a H0. Isso indica que há evidências de que os resíduos não seguem uma distribuição normal. \n",
    "\n",
    "* Se o valor-p for maior que o nível de significância, falhamos em rejeitar a H0. Isso indica que os resíduos seguem uma distribuição normal."
   ]
  },
  {
   "cell_type": "code",
   "execution_count": null,
   "id": "5fd1b620",
   "metadata": {},
   "outputs": [],
   "source": [
    "# Esse teste pode ser aplicado a qq variavel, vamos usar nos residuos aqui\n",
    "# Função\n",
    "def valida_sup_4(residuos):\n",
    "    \n",
    "    from scipy.stats import shapiro\n",
    "    \n",
    "    # Aplica o teste\n",
    "    resultado = shapiro(residuos)\n",
    "    \n",
    "    # Extrai o valor-p\n",
    "    pval = resultado.pvalue\n",
    "    \n",
    "    print('Valor-p =', pval)\n",
    "    \n",
    "    if pval < 0.05:\n",
    "        print(\"Rejeitamos a H0. Isso indica que há evidências de que os resíduos não seguem uma distribuição normal!\")\n",
    "    else:\n",
    "        print(\"Falhamos em rejeitar a H0. Isso indica que os resíduos seguem uma distribuição normal. Suposição satisfeita!\")"
   ]
  },
  {
   "cell_type": "code",
   "execution_count": null,
   "id": "4526a28a",
   "metadata": {},
   "outputs": [],
   "source": [
    "valida_sup_4(residuals)"
   ]
  },
  {
   "cell_type": "markdown",
   "id": "6279c777",
   "metadata": {},
   "source": [
    "##### Análise:\n",
    "\n",
    "Os resíduos não passaram no teste de normalidade. Provavelmente a diferença é pouca, mas essa suposição não foi satisfeita.\n",
    "\n",
    "Notas:\n",
    "\n",
    "1- Nem a variável dependente nem a variável independente precisam ser normalmente distribuídas. Na verdade, elas podem ter todos os tipos de distribuições. A suposição de normalidade se aplica à distribuição dos erros. (Usar 2 desvio padrao ao inves de 3 para classificar outliers)\n",
    "\n",
    "2- Às vezes, a não normalidade dos resíduos indica a presença de outliers. Se for esse o caso, lide com os valores discrepantes primeiro.\n",
    "\n",
    "3- Talvez usar algumas transformações resolva o problema, porém, tem consequências. Como a interpretação dos coeficientes muda se transformarmos variáveis.\n",
    "\n",
    "4- Eu não diria que esse modelo linear é completamente inútil. No entanto, isso significa que o modelo não explica corretamente/completamente os dados. Há uma parte em que você precisa decidir se o modelo é \"bom o suficiente\" ou não.\n",
    "Depende do tipo de dados que esta analisando. Dados na area medica, tvz não deva ser usado, mas prar prever preço de casas por ser útil.\n",
    "\n",
    "5- Modelos com superajustes (overfitting), podem apresentar resíduos não normais.\n",
    "\n",
    "**O ideal é retornar e trabalhar mais nos dados e/ou no modelo e checar novamente as suposições, mas este artigo abaixo traz uma discussão interessante sobre o tema e afirma que o teste t e a regressão linear de mínimos quadrados não requerem nenhuma suposição de distribuição Normal em amostras suficientemente grandes (Big Data).** E Agora?!?!? :))\n",
    "\n",
    "https://www.annualreviews.org/doi/full/10.1146/annurev.publhealth.23.100901.140546"
   ]
  },
  {
   "cell_type": "markdown",
   "id": "37839fbc",
   "metadata": {},
   "source": [
    "#### Multicolinearidade"
   ]
  },
  {
   "cell_type": "code",
   "execution_count": null,
   "id": "bf660f0d",
   "metadata": {},
   "outputs": [],
   "source": [
    "# Função para checar o VIF de todas as variáveis\n",
    "def valida_sup_5(train):\n",
    "    \n",
    "    # Cria o dataframe\n",
    "    vif = pd.DataFrame()\n",
    "    \n",
    "    # Alimenta cada coluna\n",
    "    vif[\"feature\"] = train.columns\n",
    "\n",
    "    # Calcula VIF para cada variável\n",
    "    vif[\"VIF\"] = [variance_inflation_factor(train.values, i) for i in range(len(train.columns))]\n",
    "    \n",
    "    return vif"
   ]
  },
  {
   "cell_type": "code",
   "execution_count": null,
   "id": "9323f56a",
   "metadata": {},
   "outputs": [],
   "source": [
    "# VIF acima de 10 em geral indicam multicolinearidade, mas usamos VIF = 5\n",
    "print(valida_sup_5(df_X_treino))"
   ]
  },
  {
   "cell_type": "markdown",
   "id": "5e690822",
   "metadata": {},
   "source": [
    "##### Análise:\n",
    "\n",
    "Não há multicolinearidade nos dados. Suposição satisfeita."
   ]
  },
  {
   "cell_type": "markdown",
   "id": "e4ba7318",
   "metadata": {},
   "source": [
    "## Conclusão\n",
    "\n",
    "Nosso modelo atendeu praticamente a todas as suposições. O ideal seria retornar e tentar ajustar o modelo até satisfazer plenamente a todas as suposições ou considerar se o modelo é bom o suficiente. \n",
    "\n",
    "Vamos usá-lo com novos dados e verificar os resultados."
   ]
  },
  {
   "cell_type": "code",
   "execution_count": null,
   "id": "daf9eb89",
   "metadata": {},
   "outputs": [],
   "source": [
    "# Coeficientes (o que o modelo aprendeu)\n",
    "modelo_v5.params"
   ]
  },
  {
   "cell_type": "code",
   "execution_count": null,
   "id": "19ec2b88",
   "metadata": {},
   "outputs": [],
   "source": [
    "# Vamos criar um dataframe com os coeficientes\n",
    "df = pd.DataFrame(modelo_v5.params)"
   ]
  },
  {
   "cell_type": "code",
   "execution_count": null,
   "id": "db559ef2",
   "metadata": {},
   "outputs": [],
   "source": [
    "df"
   ]
  },
  {
   "cell_type": "code",
   "execution_count": null,
   "id": "fc82ed45",
   "metadata": {},
   "outputs": [],
   "source": [
    "# Lista de colunas com os nomes das variáveis\n",
    "colunas = ['const', \n",
    "           'numero_medio_quartos_por_residencia',\n",
    "           'taxa_criminalidade',\n",
    "           'rio_no_bairro',\n",
    "           'taxa_poluicao',\n",
    "           'distancia_centro',\n",
    "           'taxa_professores',\n",
    "           'taxa_desabrigados']"
   ]
  },
  {
   "cell_type": "code",
   "execution_count": null,
   "id": "0e487757",
   "metadata": {},
   "outputs": [],
   "source": [
    "# Pivot da tabela\n",
    "novo_df = pd.pivot_table(df, columns = colunas).reset_index()"
   ]
  },
  {
   "cell_type": "code",
   "execution_count": null,
   "id": "96b86075",
   "metadata": {},
   "outputs": [],
   "source": [
    "novo_df"
   ]
  },
  {
   "cell_type": "markdown",
   "id": "974a89e2",
   "metadata": {},
   "source": [
    "##### A variável alvo é taxa de ocupação!\n",
    "\n",
    "- O que significa o coeficiente? O sinal de um coeficiente de regressão linear informa se existe uma correlação positiva ou negativa entre cada variável independente e a variável dependente. Um coeficiente positivo indica que à medida que o valor da variável independente aumenta, a média da variável dependente também tende a aumentar. Um coeficiente negativo sugere que, à medida que a variável independente aumenta, a variável dependente tende a diminuir.\n",
    "\n",
    "- O valor do coeficiente significa o quanto a média da variável dependente muda, dado um deslocamento de uma unidade na variável independente enquanto mantém outras variáveis no modelo constante. Essa propriedade de manter as outras variáveis constantes é crucial porque permite avaliar o efeito de cada variável isoladamente das outras.\n",
    "\n",
    "- Os coeficientes de regressão linear em sua saída estatística são estimativas dos parâmetros reais da população. Para obter estimativas de coeficientes imparciais que tenham a variância mínima e poder confiar nos valores-p, seu modelo deve satisfazer as suposições clássicas da regressão linear OLS.\n",
    "\n",
    "- Os Cientistas de Dados consideram os coeficientes de regressão linear um tamanho de efeito não padronizado porque indicam a força da relação entre variáveis usando valores que retêm as unidades naturais da variável dependente. Os tamanhos de efeito ajudam a entender a importância das descobertas em um sentido prático. "
   ]
  },
  {
   "cell_type": "markdown",
   "id": "120128b3",
   "metadata": {},
   "source": [
    "Incrivel! Fim :)"
   ]
  },
  {
   "cell_type": "code",
   "execution_count": null,
   "id": "49a5014e",
   "metadata": {},
   "outputs": [],
   "source": []
  }
 ],
 "metadata": {
  "kernelspec": {
   "display_name": "Python 3 (ipykernel)",
   "language": "python",
   "name": "python3"
  },
  "language_info": {
   "codemirror_mode": {
    "name": "ipython",
    "version": 3
   },
   "file_extension": ".py",
   "mimetype": "text/x-python",
   "name": "python",
   "nbconvert_exporter": "python",
   "pygments_lexer": "ipython3",
   "version": "3.9.13"
  }
 },
 "nbformat": 4,
 "nbformat_minor": 5
}
